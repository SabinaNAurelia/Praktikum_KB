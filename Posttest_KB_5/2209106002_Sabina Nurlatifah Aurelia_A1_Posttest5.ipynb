{
 "cells": [
  {
   "cell_type": "markdown",
   "id": "c076325b-2f2d-48b8-9f66-0219e4aba2e5",
   "metadata": {},
   "source": [
    "### Nama: Sabina Nurlatifah Aurelia\n",
    "### NIM: 2209106002\n",
    "### Kelas: Informatika A1 2022\n",
    "### POSTTEST 5"
   ]
  },
  {
   "cell_type": "markdown",
   "id": "ad442694-87ea-475c-9584-85aebe1909e3",
   "metadata": {},
   "source": [
    "Import package "
   ]
  },
  {
   "cell_type": "code",
   "execution_count": 1,
   "id": "9da9be70-8b6e-4e3b-a607-a2c3b9499d48",
   "metadata": {},
   "outputs": [],
   "source": [
    "import pandas as pd\n",
    "import matplotlib.pyplot as plt\n",
    "import numpy as np\n",
    "import seaborn as sns\n",
    "from sklearn.preprocessing import LabelEncoder\n",
    "from sklearn.model_selection import train_test_split\n",
    "from sklearn.svm import SVC\n",
    "from sklearn.linear_model import LinearRegression\n",
    "from sklearn.metrics import mean_squared_error\n",
    "from sklearn.cluster import KMeans"
   ]
  },
  {
   "cell_type": "markdown",
   "id": "5cdc19c6-580b-474a-bf42-175557ffc431",
   "metadata": {},
   "source": [
    "Deklarasi File CSV"
   ]
  },
  {
   "cell_type": "code",
   "execution_count": 2,
   "id": "5ca9425b-e1b3-4d83-b9b9-4fef93805b7e",
   "metadata": {},
   "outputs": [
    {
     "data": {
      "text/html": [
       "<div>\n",
       "<style scoped>\n",
       "    .dataframe tbody tr th:only-of-type {\n",
       "        vertical-align: middle;\n",
       "    }\n",
       "\n",
       "    .dataframe tbody tr th {\n",
       "        vertical-align: top;\n",
       "    }\n",
       "\n",
       "    .dataframe thead th {\n",
       "        text-align: right;\n",
       "    }\n",
       "</style>\n",
       "<table border=\"1\" class=\"dataframe\">\n",
       "  <thead>\n",
       "    <tr style=\"text-align: right;\">\n",
       "      <th></th>\n",
       "      <th>om</th>\n",
       "      <th>yr</th>\n",
       "      <th>mo</th>\n",
       "      <th>dy</th>\n",
       "      <th>date</th>\n",
       "      <th>time</th>\n",
       "      <th>tz</th>\n",
       "      <th>datetime_utc</th>\n",
       "      <th>st</th>\n",
       "      <th>stf</th>\n",
       "      <th>...</th>\n",
       "      <th>elon</th>\n",
       "      <th>len</th>\n",
       "      <th>wid</th>\n",
       "      <th>ns</th>\n",
       "      <th>sn</th>\n",
       "      <th>f1</th>\n",
       "      <th>f2</th>\n",
       "      <th>f3</th>\n",
       "      <th>f4</th>\n",
       "      <th>fc</th>\n",
       "    </tr>\n",
       "  </thead>\n",
       "  <tbody>\n",
       "    <tr>\n",
       "      <th>0</th>\n",
       "      <td>192</td>\n",
       "      <td>1950</td>\n",
       "      <td>10</td>\n",
       "      <td>1</td>\n",
       "      <td>1950-10-01</td>\n",
       "      <td>21:00:00</td>\n",
       "      <td>America/Chicago</td>\n",
       "      <td>1950-10-02T03:00:00Z</td>\n",
       "      <td>OK</td>\n",
       "      <td>40</td>\n",
       "      <td>...</td>\n",
       "      <td>-102.3000</td>\n",
       "      <td>15.80</td>\n",
       "      <td>10</td>\n",
       "      <td>1</td>\n",
       "      <td>1</td>\n",
       "      <td>25</td>\n",
       "      <td>0</td>\n",
       "      <td>0</td>\n",
       "      <td>0</td>\n",
       "      <td>False</td>\n",
       "    </tr>\n",
       "    <tr>\n",
       "      <th>1</th>\n",
       "      <td>193</td>\n",
       "      <td>1950</td>\n",
       "      <td>10</td>\n",
       "      <td>9</td>\n",
       "      <td>1950-10-09</td>\n",
       "      <td>02:15:00</td>\n",
       "      <td>America/Chicago</td>\n",
       "      <td>1950-10-09T08:15:00Z</td>\n",
       "      <td>NC</td>\n",
       "      <td>37</td>\n",
       "      <td>...</td>\n",
       "      <td>0.0000</td>\n",
       "      <td>2.00</td>\n",
       "      <td>880</td>\n",
       "      <td>1</td>\n",
       "      <td>1</td>\n",
       "      <td>47</td>\n",
       "      <td>0</td>\n",
       "      <td>0</td>\n",
       "      <td>0</td>\n",
       "      <td>False</td>\n",
       "    </tr>\n",
       "    <tr>\n",
       "      <th>2</th>\n",
       "      <td>195</td>\n",
       "      <td>1950</td>\n",
       "      <td>11</td>\n",
       "      <td>20</td>\n",
       "      <td>1950-11-20</td>\n",
       "      <td>02:20:00</td>\n",
       "      <td>America/Chicago</td>\n",
       "      <td>1950-11-20T08:20:00Z</td>\n",
       "      <td>KY</td>\n",
       "      <td>21</td>\n",
       "      <td>...</td>\n",
       "      <td>0.0000</td>\n",
       "      <td>0.10</td>\n",
       "      <td>10</td>\n",
       "      <td>1</td>\n",
       "      <td>1</td>\n",
       "      <td>177</td>\n",
       "      <td>0</td>\n",
       "      <td>0</td>\n",
       "      <td>0</td>\n",
       "      <td>False</td>\n",
       "    </tr>\n",
       "    <tr>\n",
       "      <th>3</th>\n",
       "      <td>196</td>\n",
       "      <td>1950</td>\n",
       "      <td>11</td>\n",
       "      <td>20</td>\n",
       "      <td>1950-11-20</td>\n",
       "      <td>04:00:00</td>\n",
       "      <td>America/Chicago</td>\n",
       "      <td>1950-11-20T10:00:00Z</td>\n",
       "      <td>KY</td>\n",
       "      <td>21</td>\n",
       "      <td>...</td>\n",
       "      <td>0.0000</td>\n",
       "      <td>0.10</td>\n",
       "      <td>10</td>\n",
       "      <td>1</td>\n",
       "      <td>1</td>\n",
       "      <td>209</td>\n",
       "      <td>0</td>\n",
       "      <td>0</td>\n",
       "      <td>0</td>\n",
       "      <td>False</td>\n",
       "    </tr>\n",
       "    <tr>\n",
       "      <th>4</th>\n",
       "      <td>197</td>\n",
       "      <td>1950</td>\n",
       "      <td>11</td>\n",
       "      <td>20</td>\n",
       "      <td>1950-11-20</td>\n",
       "      <td>07:30:00</td>\n",
       "      <td>America/Chicago</td>\n",
       "      <td>1950-11-20T13:30:00Z</td>\n",
       "      <td>MS</td>\n",
       "      <td>28</td>\n",
       "      <td>...</td>\n",
       "      <td>0.0000</td>\n",
       "      <td>2.00</td>\n",
       "      <td>37</td>\n",
       "      <td>1</td>\n",
       "      <td>1</td>\n",
       "      <td>101</td>\n",
       "      <td>0</td>\n",
       "      <td>0</td>\n",
       "      <td>0</td>\n",
       "      <td>False</td>\n",
       "    </tr>\n",
       "    <tr>\n",
       "      <th>...</th>\n",
       "      <td>...</td>\n",
       "      <td>...</td>\n",
       "      <td>...</td>\n",
       "      <td>...</td>\n",
       "      <td>...</td>\n",
       "      <td>...</td>\n",
       "      <td>...</td>\n",
       "      <td>...</td>\n",
       "      <td>...</td>\n",
       "      <td>...</td>\n",
       "      <td>...</td>\n",
       "      <td>...</td>\n",
       "      <td>...</td>\n",
       "      <td>...</td>\n",
       "      <td>...</td>\n",
       "      <td>...</td>\n",
       "      <td>...</td>\n",
       "      <td>...</td>\n",
       "      <td>...</td>\n",
       "      <td>...</td>\n",
       "      <td>...</td>\n",
       "    </tr>\n",
       "    <tr>\n",
       "      <th>68688</th>\n",
       "      <td>621922</td>\n",
       "      <td>2022</td>\n",
       "      <td>9</td>\n",
       "      <td>28</td>\n",
       "      <td>2022-09-28</td>\n",
       "      <td>13:32:00</td>\n",
       "      <td>America/Chicago</td>\n",
       "      <td>2022-09-28T18:32:00Z</td>\n",
       "      <td>FL</td>\n",
       "      <td>12</td>\n",
       "      <td>...</td>\n",
       "      <td>-80.8841</td>\n",
       "      <td>3.00</td>\n",
       "      <td>100</td>\n",
       "      <td>1</td>\n",
       "      <td>1</td>\n",
       "      <td>9</td>\n",
       "      <td>0</td>\n",
       "      <td>0</td>\n",
       "      <td>0</td>\n",
       "      <td>False</td>\n",
       "    </tr>\n",
       "    <tr>\n",
       "      <th>68689</th>\n",
       "      <td>621923</td>\n",
       "      <td>2022</td>\n",
       "      <td>9</td>\n",
       "      <td>30</td>\n",
       "      <td>2022-09-30</td>\n",
       "      <td>10:25:00</td>\n",
       "      <td>America/Chicago</td>\n",
       "      <td>2022-09-30T15:25:00Z</td>\n",
       "      <td>NC</td>\n",
       "      <td>37</td>\n",
       "      <td>...</td>\n",
       "      <td>-78.3011</td>\n",
       "      <td>0.74</td>\n",
       "      <td>20</td>\n",
       "      <td>1</td>\n",
       "      <td>1</td>\n",
       "      <td>19</td>\n",
       "      <td>0</td>\n",
       "      <td>0</td>\n",
       "      <td>0</td>\n",
       "      <td>False</td>\n",
       "    </tr>\n",
       "    <tr>\n",
       "      <th>68690</th>\n",
       "      <td>621924</td>\n",
       "      <td>2022</td>\n",
       "      <td>9</td>\n",
       "      <td>30</td>\n",
       "      <td>2022-09-30</td>\n",
       "      <td>13:22:00</td>\n",
       "      <td>America/Chicago</td>\n",
       "      <td>2022-09-30T18:22:00Z</td>\n",
       "      <td>NC</td>\n",
       "      <td>37</td>\n",
       "      <td>...</td>\n",
       "      <td>-76.7147</td>\n",
       "      <td>0.70</td>\n",
       "      <td>12</td>\n",
       "      <td>1</td>\n",
       "      <td>1</td>\n",
       "      <td>13</td>\n",
       "      <td>0</td>\n",
       "      <td>0</td>\n",
       "      <td>0</td>\n",
       "      <td>False</td>\n",
       "    </tr>\n",
       "    <tr>\n",
       "      <th>68691</th>\n",
       "      <td>621900</td>\n",
       "      <td>2022</td>\n",
       "      <td>9</td>\n",
       "      <td>4</td>\n",
       "      <td>2022-09-04</td>\n",
       "      <td>15:44:00</td>\n",
       "      <td>America/Chicago</td>\n",
       "      <td>2022-09-04T20:44:00Z</td>\n",
       "      <td>OH</td>\n",
       "      <td>39</td>\n",
       "      <td>...</td>\n",
       "      <td>-80.6555</td>\n",
       "      <td>0.07</td>\n",
       "      <td>15</td>\n",
       "      <td>1</td>\n",
       "      <td>1</td>\n",
       "      <td>99</td>\n",
       "      <td>0</td>\n",
       "      <td>0</td>\n",
       "      <td>0</td>\n",
       "      <td>False</td>\n",
       "    </tr>\n",
       "    <tr>\n",
       "      <th>68692</th>\n",
       "      <td>621901</td>\n",
       "      <td>2022</td>\n",
       "      <td>9</td>\n",
       "      <td>9</td>\n",
       "      <td>2022-09-09</td>\n",
       "      <td>23:21:00</td>\n",
       "      <td>America/Chicago</td>\n",
       "      <td>2022-09-10T04:21:00Z</td>\n",
       "      <td>SC</td>\n",
       "      <td>45</td>\n",
       "      <td>...</td>\n",
       "      <td>-79.7537</td>\n",
       "      <td>0.68</td>\n",
       "      <td>125</td>\n",
       "      <td>1</td>\n",
       "      <td>1</td>\n",
       "      <td>19</td>\n",
       "      <td>0</td>\n",
       "      <td>0</td>\n",
       "      <td>0</td>\n",
       "      <td>False</td>\n",
       "    </tr>\n",
       "  </tbody>\n",
       "</table>\n",
       "<p>68693 rows × 27 columns</p>\n",
       "</div>"
      ],
      "text/plain": [
       "           om    yr  mo  dy        date      time               tz  \\\n",
       "0         192  1950  10   1  1950-10-01  21:00:00  America/Chicago   \n",
       "1         193  1950  10   9  1950-10-09  02:15:00  America/Chicago   \n",
       "2         195  1950  11  20  1950-11-20  02:20:00  America/Chicago   \n",
       "3         196  1950  11  20  1950-11-20  04:00:00  America/Chicago   \n",
       "4         197  1950  11  20  1950-11-20  07:30:00  America/Chicago   \n",
       "...       ...   ...  ..  ..         ...       ...              ...   \n",
       "68688  621922  2022   9  28  2022-09-28  13:32:00  America/Chicago   \n",
       "68689  621923  2022   9  30  2022-09-30  10:25:00  America/Chicago   \n",
       "68690  621924  2022   9  30  2022-09-30  13:22:00  America/Chicago   \n",
       "68691  621900  2022   9   4  2022-09-04  15:44:00  America/Chicago   \n",
       "68692  621901  2022   9   9  2022-09-09  23:21:00  America/Chicago   \n",
       "\n",
       "               datetime_utc  st  stf  ...      elon    len  wid  ns  sn   f1  \\\n",
       "0      1950-10-02T03:00:00Z  OK   40  ... -102.3000  15.80   10   1   1   25   \n",
       "1      1950-10-09T08:15:00Z  NC   37  ...    0.0000   2.00  880   1   1   47   \n",
       "2      1950-11-20T08:20:00Z  KY   21  ...    0.0000   0.10   10   1   1  177   \n",
       "3      1950-11-20T10:00:00Z  KY   21  ...    0.0000   0.10   10   1   1  209   \n",
       "4      1950-11-20T13:30:00Z  MS   28  ...    0.0000   2.00   37   1   1  101   \n",
       "...                     ...  ..  ...  ...       ...    ...  ...  ..  ..  ...   \n",
       "68688  2022-09-28T18:32:00Z  FL   12  ...  -80.8841   3.00  100   1   1    9   \n",
       "68689  2022-09-30T15:25:00Z  NC   37  ...  -78.3011   0.74   20   1   1   19   \n",
       "68690  2022-09-30T18:22:00Z  NC   37  ...  -76.7147   0.70   12   1   1   13   \n",
       "68691  2022-09-04T20:44:00Z  OH   39  ...  -80.6555   0.07   15   1   1   99   \n",
       "68692  2022-09-10T04:21:00Z  SC   45  ...  -79.7537   0.68  125   1   1   19   \n",
       "\n",
       "       f2  f3  f4     fc  \n",
       "0       0   0   0  False  \n",
       "1       0   0   0  False  \n",
       "2       0   0   0  False  \n",
       "3       0   0   0  False  \n",
       "4       0   0   0  False  \n",
       "...    ..  ..  ..    ...  \n",
       "68688   0   0   0  False  \n",
       "68689   0   0   0  False  \n",
       "68690   0   0   0  False  \n",
       "68691   0   0   0  False  \n",
       "68692   0   0   0  False  \n",
       "\n",
       "[68693 rows x 27 columns]"
      ]
     },
     "execution_count": 2,
     "metadata": {},
     "output_type": "execute_result"
    }
   ],
   "source": [
    "aurel = pd.read_csv('tornados.csv')\n",
    "aurel"
   ]
  },
  {
   "cell_type": "markdown",
   "id": "6650b37a-22be-49b1-b69e-412989ba2a61",
   "metadata": {},
   "source": [
    "Menampilkan informasi yang ada pada dataset"
   ]
  },
  {
   "cell_type": "code",
   "execution_count": 3,
   "id": "4bc97a11-c121-4ba5-85ad-a199c9243940",
   "metadata": {},
   "outputs": [
    {
     "name": "stdout",
     "output_type": "stream",
     "text": [
      "<class 'pandas.core.frame.DataFrame'>\n",
      "RangeIndex: 68693 entries, 0 to 68692\n",
      "Data columns (total 27 columns):\n",
      " #   Column        Non-Null Count  Dtype  \n",
      "---  ------        --------------  -----  \n",
      " 0   om            68693 non-null  int64  \n",
      " 1   yr            68693 non-null  int64  \n",
      " 2   mo            68693 non-null  int64  \n",
      " 3   dy            68693 non-null  int64  \n",
      " 4   date          68693 non-null  object \n",
      " 5   time          68693 non-null  object \n",
      " 6   tz            68693 non-null  object \n",
      " 7   datetime_utc  68693 non-null  object \n",
      " 8   st            68693 non-null  object \n",
      " 9   stf           68693 non-null  int64  \n",
      " 10  mag           67937 non-null  float64\n",
      " 11  inj           68693 non-null  int64  \n",
      " 12  fat           68693 non-null  int64  \n",
      " 13  loss          41523 non-null  float64\n",
      " 14  slat          68693 non-null  float64\n",
      " 15  slon          68693 non-null  float64\n",
      " 16  elat          68693 non-null  float64\n",
      " 17  elon          68693 non-null  float64\n",
      " 18  len           68693 non-null  float64\n",
      " 19  wid           68693 non-null  int64  \n",
      " 20  ns            68693 non-null  int64  \n",
      " 21  sn            68693 non-null  int64  \n",
      " 22  f1            68693 non-null  int64  \n",
      " 23  f2            68693 non-null  int64  \n",
      " 24  f3            68693 non-null  int64  \n",
      " 25  f4            68693 non-null  int64  \n",
      " 26  fc            68693 non-null  bool   \n",
      "dtypes: bool(1), float64(7), int64(14), object(5)\n",
      "memory usage: 13.7+ MB\n"
     ]
    }
   ],
   "source": [
    "aurel.info()"
   ]
  },
  {
   "cell_type": "markdown",
   "id": "17154918-7d96-4800-b459-3676225d54d5",
   "metadata": {},
   "source": [
    "Membersihkan data yang duplikat (data cleaning)"
   ]
  },
  {
   "cell_type": "code",
   "execution_count": 4,
   "id": "794fbe20-dcf8-4e75-9b78-99765c7d02ae",
   "metadata": {},
   "outputs": [],
   "source": [
    "aurel.drop_duplicates(inplace= True)"
   ]
  },
  {
   "cell_type": "markdown",
   "id": "c30b299f-0274-4f4d-8358-690c20a5dca1",
   "metadata": {},
   "source": [
    "### A. Supervised Learning"
   ]
  },
  {
   "cell_type": "markdown",
   "id": "b96525ce-f7dd-4d24-b8c2-a9b4eb28b493",
   "metadata": {},
   "source": [
    "#### A1. Implementasi Metode"
   ]
  },
  {
   "cell_type": "markdown",
   "id": "a328a113-c9e6-4987-a766-5027dde2b1ea",
   "metadata": {},
   "source": [
    "a. Support Vector Clustering menggunakan SVM"
   ]
  },
  {
   "cell_type": "code",
   "execution_count": 5,
   "id": "33fa6931-01e1-41a8-804b-8ce54264d238",
   "metadata": {},
   "outputs": [],
   "source": [
    "x2 = aurel[['inj', 'fat']]\n",
    "y2 = aurel ['st']\n",
    "\n",
    "## mengubah nilai NC --> Non- NC\n",
    "y2 = np.where(y2 == 'OK','OK','Non-OK') "
   ]
  },
  {
   "cell_type": "markdown",
   "id": "6306ed68-53e0-4d9d-8617-72cbe1af296f",
   "metadata": {},
   "source": [
    "Training set dan test set 80:20"
   ]
  },
  {
   "cell_type": "code",
   "execution_count": 6,
   "id": "cca5d325-b6e6-48bb-a8cf-3bb8b9c67640",
   "metadata": {},
   "outputs": [],
   "source": [
    "x_train2, x_test2, y_train2, y_test2 = train_test_split(x2, y2, test_size = 0.2, random_state = 30)"
   ]
  },
  {
   "cell_type": "markdown",
   "id": "09dad21f-84d3-40fd-a46e-be1ff33ee657",
   "metadata": {},
   "source": [
    "Train SVC model"
   ]
  },
  {
   "cell_type": "code",
   "execution_count": 7,
   "id": "68fe0e66-4de2-4305-8037-6c4a8dcd9679",
   "metadata": {},
   "outputs": [
    {
     "data": {
      "text/html": [
       "<style>#sk-container-id-1 {color: black;}#sk-container-id-1 pre{padding: 0;}#sk-container-id-1 div.sk-toggleable {background-color: white;}#sk-container-id-1 label.sk-toggleable__label {cursor: pointer;display: block;width: 100%;margin-bottom: 0;padding: 0.3em;box-sizing: border-box;text-align: center;}#sk-container-id-1 label.sk-toggleable__label-arrow:before {content: \"▸\";float: left;margin-right: 0.25em;color: #696969;}#sk-container-id-1 label.sk-toggleable__label-arrow:hover:before {color: black;}#sk-container-id-1 div.sk-estimator:hover label.sk-toggleable__label-arrow:before {color: black;}#sk-container-id-1 div.sk-toggleable__content {max-height: 0;max-width: 0;overflow: hidden;text-align: left;background-color: #f0f8ff;}#sk-container-id-1 div.sk-toggleable__content pre {margin: 0.2em;color: black;border-radius: 0.25em;background-color: #f0f8ff;}#sk-container-id-1 input.sk-toggleable__control:checked~div.sk-toggleable__content {max-height: 200px;max-width: 100%;overflow: auto;}#sk-container-id-1 input.sk-toggleable__control:checked~label.sk-toggleable__label-arrow:before {content: \"▾\";}#sk-container-id-1 div.sk-estimator input.sk-toggleable__control:checked~label.sk-toggleable__label {background-color: #d4ebff;}#sk-container-id-1 div.sk-label input.sk-toggleable__control:checked~label.sk-toggleable__label {background-color: #d4ebff;}#sk-container-id-1 input.sk-hidden--visually {border: 0;clip: rect(1px 1px 1px 1px);clip: rect(1px, 1px, 1px, 1px);height: 1px;margin: -1px;overflow: hidden;padding: 0;position: absolute;width: 1px;}#sk-container-id-1 div.sk-estimator {font-family: monospace;background-color: #f0f8ff;border: 1px dotted black;border-radius: 0.25em;box-sizing: border-box;margin-bottom: 0.5em;}#sk-container-id-1 div.sk-estimator:hover {background-color: #d4ebff;}#sk-container-id-1 div.sk-parallel-item::after {content: \"\";width: 100%;border-bottom: 1px solid gray;flex-grow: 1;}#sk-container-id-1 div.sk-label:hover label.sk-toggleable__label {background-color: #d4ebff;}#sk-container-id-1 div.sk-serial::before {content: \"\";position: absolute;border-left: 1px solid gray;box-sizing: border-box;top: 0;bottom: 0;left: 50%;z-index: 0;}#sk-container-id-1 div.sk-serial {display: flex;flex-direction: column;align-items: center;background-color: white;padding-right: 0.2em;padding-left: 0.2em;position: relative;}#sk-container-id-1 div.sk-item {position: relative;z-index: 1;}#sk-container-id-1 div.sk-parallel {display: flex;align-items: stretch;justify-content: center;background-color: white;position: relative;}#sk-container-id-1 div.sk-item::before, #sk-container-id-1 div.sk-parallel-item::before {content: \"\";position: absolute;border-left: 1px solid gray;box-sizing: border-box;top: 0;bottom: 0;left: 50%;z-index: -1;}#sk-container-id-1 div.sk-parallel-item {display: flex;flex-direction: column;z-index: 1;position: relative;background-color: white;}#sk-container-id-1 div.sk-parallel-item:first-child::after {align-self: flex-end;width: 50%;}#sk-container-id-1 div.sk-parallel-item:last-child::after {align-self: flex-start;width: 50%;}#sk-container-id-1 div.sk-parallel-item:only-child::after {width: 0;}#sk-container-id-1 div.sk-dashed-wrapped {border: 1px dashed gray;margin: 0 0.4em 0.5em 0.4em;box-sizing: border-box;padding-bottom: 0.4em;background-color: white;}#sk-container-id-1 div.sk-label label {font-family: monospace;font-weight: bold;display: inline-block;line-height: 1.2em;}#sk-container-id-1 div.sk-label-container {text-align: center;}#sk-container-id-1 div.sk-container {/* jupyter's `normalize.less` sets `[hidden] { display: none; }` but bootstrap.min.css set `[hidden] { display: none !important; }` so we also need the `!important` here to be able to override the default hidden behavior on the sphinx rendered scikit-learn.org. See: https://github.com/scikit-learn/scikit-learn/issues/21755 */display: inline-block !important;position: relative;}#sk-container-id-1 div.sk-text-repr-fallback {display: none;}</style><div id=\"sk-container-id-1\" class=\"sk-top-container\"><div class=\"sk-text-repr-fallback\"><pre>SVC(kernel=&#x27;linear&#x27;)</pre><b>In a Jupyter environment, please rerun this cell to show the HTML representation or trust the notebook. <br />On GitHub, the HTML representation is unable to render, please try loading this page with nbviewer.org.</b></div><div class=\"sk-container\" hidden><div class=\"sk-item\"><div class=\"sk-estimator sk-toggleable\"><input class=\"sk-toggleable__control sk-hidden--visually\" id=\"sk-estimator-id-1\" type=\"checkbox\" checked><label for=\"sk-estimator-id-1\" class=\"sk-toggleable__label sk-toggleable__label-arrow\">SVC</label><div class=\"sk-toggleable__content\"><pre>SVC(kernel=&#x27;linear&#x27;)</pre></div></div></div></div></div>"
      ],
      "text/plain": [
       "SVC(kernel='linear')"
      ]
     },
     "execution_count": 7,
     "metadata": {},
     "output_type": "execute_result"
    }
   ],
   "source": [
    "svm = SVC(kernel = \"linear\")\n",
    "svm.fit(x_train2, y_train2)"
   ]
  },
  {
   "cell_type": "code",
   "execution_count": 8,
   "id": "382d6c1d-658e-41e0-a904-f1ca72ec5303",
   "metadata": {},
   "outputs": [
    {
     "data": {
      "text/plain": [
       "array([[495.,   8.],\n",
       "       [  0.,   7.],\n",
       "       [145.,  72.],\n",
       "       ...,\n",
       "       [  0.,   0.],\n",
       "       [  2.,   0.],\n",
       "       [  0.,   0.]])"
      ]
     },
     "execution_count": 8,
     "metadata": {},
     "output_type": "execute_result"
    }
   ],
   "source": [
    "y_pred2 = svm.predict(x_test2) ##prediksi dengan x_test dari aurel\n",
    "\n",
    "sv = svm.support_vectors_ #ambil nilai support vector dari objek\n",
    "sv"
   ]
  },
  {
   "cell_type": "markdown",
   "id": "bf3ecfa2-3916-4f42-a1ef-7a2ea5e827c4",
   "metadata": {},
   "source": [
    "b. Regresi Linear"
   ]
  },
  {
   "cell_type": "code",
   "execution_count": 9,
   "id": "7490a947-156d-4cf3-a390-006c4725c993",
   "metadata": {},
   "outputs": [],
   "source": [
    "x = aurel[['inj']]\n",
    "y = aurel ['fat']"
   ]
  },
  {
   "cell_type": "markdown",
   "id": "57855d09-5161-4797-ba89-5f4697feddb2",
   "metadata": {},
   "source": [
    "mengatur perbandingan trainset dan test set 80:20"
   ]
  },
  {
   "cell_type": "code",
   "execution_count": 10,
   "id": "c9656c00-a318-4db0-85b4-f7a00ce7aaf0",
   "metadata": {},
   "outputs": [],
   "source": [
    "x_train, x_test, y_train, y_test = train_test_split( x, y, test_size = 0.2, random_state = 0)"
   ]
  },
  {
   "cell_type": "markdown",
   "id": "9948d543-6e2f-43dc-98bb-1c78e31c77cb",
   "metadata": {},
   "source": [
    "melatih model"
   ]
  },
  {
   "cell_type": "code",
   "execution_count": 11,
   "id": "3b42d115-4aa8-4167-bebf-ffa66147047a",
   "metadata": {},
   "outputs": [
    {
     "data": {
      "text/html": [
       "<style>#sk-container-id-2 {color: black;}#sk-container-id-2 pre{padding: 0;}#sk-container-id-2 div.sk-toggleable {background-color: white;}#sk-container-id-2 label.sk-toggleable__label {cursor: pointer;display: block;width: 100%;margin-bottom: 0;padding: 0.3em;box-sizing: border-box;text-align: center;}#sk-container-id-2 label.sk-toggleable__label-arrow:before {content: \"▸\";float: left;margin-right: 0.25em;color: #696969;}#sk-container-id-2 label.sk-toggleable__label-arrow:hover:before {color: black;}#sk-container-id-2 div.sk-estimator:hover label.sk-toggleable__label-arrow:before {color: black;}#sk-container-id-2 div.sk-toggleable__content {max-height: 0;max-width: 0;overflow: hidden;text-align: left;background-color: #f0f8ff;}#sk-container-id-2 div.sk-toggleable__content pre {margin: 0.2em;color: black;border-radius: 0.25em;background-color: #f0f8ff;}#sk-container-id-2 input.sk-toggleable__control:checked~div.sk-toggleable__content {max-height: 200px;max-width: 100%;overflow: auto;}#sk-container-id-2 input.sk-toggleable__control:checked~label.sk-toggleable__label-arrow:before {content: \"▾\";}#sk-container-id-2 div.sk-estimator input.sk-toggleable__control:checked~label.sk-toggleable__label {background-color: #d4ebff;}#sk-container-id-2 div.sk-label input.sk-toggleable__control:checked~label.sk-toggleable__label {background-color: #d4ebff;}#sk-container-id-2 input.sk-hidden--visually {border: 0;clip: rect(1px 1px 1px 1px);clip: rect(1px, 1px, 1px, 1px);height: 1px;margin: -1px;overflow: hidden;padding: 0;position: absolute;width: 1px;}#sk-container-id-2 div.sk-estimator {font-family: monospace;background-color: #f0f8ff;border: 1px dotted black;border-radius: 0.25em;box-sizing: border-box;margin-bottom: 0.5em;}#sk-container-id-2 div.sk-estimator:hover {background-color: #d4ebff;}#sk-container-id-2 div.sk-parallel-item::after {content: \"\";width: 100%;border-bottom: 1px solid gray;flex-grow: 1;}#sk-container-id-2 div.sk-label:hover label.sk-toggleable__label {background-color: #d4ebff;}#sk-container-id-2 div.sk-serial::before {content: \"\";position: absolute;border-left: 1px solid gray;box-sizing: border-box;top: 0;bottom: 0;left: 50%;z-index: 0;}#sk-container-id-2 div.sk-serial {display: flex;flex-direction: column;align-items: center;background-color: white;padding-right: 0.2em;padding-left: 0.2em;position: relative;}#sk-container-id-2 div.sk-item {position: relative;z-index: 1;}#sk-container-id-2 div.sk-parallel {display: flex;align-items: stretch;justify-content: center;background-color: white;position: relative;}#sk-container-id-2 div.sk-item::before, #sk-container-id-2 div.sk-parallel-item::before {content: \"\";position: absolute;border-left: 1px solid gray;box-sizing: border-box;top: 0;bottom: 0;left: 50%;z-index: -1;}#sk-container-id-2 div.sk-parallel-item {display: flex;flex-direction: column;z-index: 1;position: relative;background-color: white;}#sk-container-id-2 div.sk-parallel-item:first-child::after {align-self: flex-end;width: 50%;}#sk-container-id-2 div.sk-parallel-item:last-child::after {align-self: flex-start;width: 50%;}#sk-container-id-2 div.sk-parallel-item:only-child::after {width: 0;}#sk-container-id-2 div.sk-dashed-wrapped {border: 1px dashed gray;margin: 0 0.4em 0.5em 0.4em;box-sizing: border-box;padding-bottom: 0.4em;background-color: white;}#sk-container-id-2 div.sk-label label {font-family: monospace;font-weight: bold;display: inline-block;line-height: 1.2em;}#sk-container-id-2 div.sk-label-container {text-align: center;}#sk-container-id-2 div.sk-container {/* jupyter's `normalize.less` sets `[hidden] { display: none; }` but bootstrap.min.css set `[hidden] { display: none !important; }` so we also need the `!important` here to be able to override the default hidden behavior on the sphinx rendered scikit-learn.org. See: https://github.com/scikit-learn/scikit-learn/issues/21755 */display: inline-block !important;position: relative;}#sk-container-id-2 div.sk-text-repr-fallback {display: none;}</style><div id=\"sk-container-id-2\" class=\"sk-top-container\"><div class=\"sk-text-repr-fallback\"><pre>LinearRegression()</pre><b>In a Jupyter environment, please rerun this cell to show the HTML representation or trust the notebook. <br />On GitHub, the HTML representation is unable to render, please try loading this page with nbviewer.org.</b></div><div class=\"sk-container\" hidden><div class=\"sk-item\"><div class=\"sk-estimator sk-toggleable\"><input class=\"sk-toggleable__control sk-hidden--visually\" id=\"sk-estimator-id-2\" type=\"checkbox\" checked><label for=\"sk-estimator-id-2\" class=\"sk-toggleable__label sk-toggleable__label-arrow\">LinearRegression</label><div class=\"sk-toggleable__content\"><pre>LinearRegression()</pre></div></div></div></div></div>"
      ],
      "text/plain": [
       "LinearRegression()"
      ]
     },
     "execution_count": 11,
     "metadata": {},
     "output_type": "execute_result"
    }
   ],
   "source": [
    "reg = LinearRegression()\n",
    "reg.fit(x_train, y_train)"
   ]
  },
  {
   "cell_type": "markdown",
   "id": "0d8aac46-46c3-46e5-ae4e-0d03fa399fc1",
   "metadata": {},
   "source": [
    "melakukan prediksi"
   ]
  },
  {
   "cell_type": "code",
   "execution_count": 12,
   "id": "7bdb1a8f-fb66-4228-8c25-88f273ac894c",
   "metadata": {},
   "outputs": [],
   "source": [
    "y_pred = reg.predict(x_test)"
   ]
  },
  {
   "cell_type": "code",
   "execution_count": 13,
   "id": "18e7ac88-72fe-43d4-b05c-0adf95b7d092",
   "metadata": {},
   "outputs": [
    {
     "data": {
      "text/plain": [
       "0.7083175773903041"
      ]
     },
     "execution_count": 13,
     "metadata": {},
     "output_type": "execute_result"
    }
   ],
   "source": [
    "y_score = reg.score(x_test, y_test)\n",
    "y_score"
   ]
  },
  {
   "cell_type": "markdown",
   "id": "fcd60212-ff15-493d-b616-5bdd4a7fe7fa",
   "metadata": {},
   "source": [
    "##### A2. Hasil Prediksi"
   ]
  },
  {
   "cell_type": "markdown",
   "id": "3482d9a2-beab-46a6-b2d3-d47f52508d56",
   "metadata": {},
   "source": [
    "a. Klasifikasi"
   ]
  },
  {
   "cell_type": "code",
   "execution_count": 14,
   "id": "7bfe9106-77da-44d3-925f-0066be717831",
   "metadata": {},
   "outputs": [],
   "source": [
    "from sklearn.metrics import confusion_matrix\n",
    "from sklearn.metrics import classification_report as cr"
   ]
  },
  {
   "cell_type": "code",
   "execution_count": 15,
   "id": "257544bf-6e98-422e-9acd-ea0d7f838a8c",
   "metadata": {},
   "outputs": [
    {
     "data": {
      "text/plain": [
       "array([[12966,     0],\n",
       "       [  773,     0]], dtype=int64)"
      ]
     },
     "execution_count": 15,
     "metadata": {},
     "output_type": "execute_result"
    }
   ],
   "source": [
    "## menghitung confusion matrix\n",
    "cm = confusion_matrix(y_test2, y_pred2)\n",
    "cm"
   ]
  },
  {
   "cell_type": "code",
   "execution_count": 16,
   "id": "23868ac5-b85e-4c7a-8312-26e140e24d03",
   "metadata": {},
   "outputs": [
    {
     "data": {
      "image/png": "[encoded data removed]",
      "text/plain": [
       "<Figure size 1000x500 with 2 Axes>"
      ]
     },
     "metadata": {},
     "output_type": "display_data"
    }
   ],
   "source": [
    "plt.figure(figsize= (10,5))\n",
    "sns.heatmap(cm, annot= True, fmt= '.2f', cmap= 'Oranges')\n",
    "plt.xlabel('Predicted')\n",
    "plt.ylabel('Original')\n",
    "plt.title('Confusion Matrix SVM')\n",
    "plt.show()"
   ]
  },
  {
   "cell_type": "code",
   "execution_count": 17,
   "id": "842282e0-cb48-4755-b221-a77652971c10",
   "metadata": {},
   "outputs": [
    {
     "name": "stdout",
     "output_type": "stream",
     "text": [
      "              precision    recall  f1-score   support\n",
      "\n",
      "      Non-OK       0.94      1.00      0.97     12966\n",
      "          OK       0.00      0.00      0.00       773\n",
      "\n",
      "    accuracy                           0.94     13739\n",
      "   macro avg       0.47      0.50      0.49     13739\n",
      "weighted avg       0.89      0.94      0.92     13739\n",
      "\n"
     ]
    },
    {
     "name": "stderr",
     "output_type": "stream",
     "text": [
      "C:\\Users\\Luthfy\\OneDrive\\Documents\\prak-kb-master\\.venv\\lib\\site-packages\\sklearn\\metrics\\_classification.py:1469: UndefinedMetricWarning: Precision and F-score are ill-defined and being set to 0.0 in labels with no predicted samples. Use `zero_division` parameter to control this behavior.\n",
      "  _warn_prf(average, modifier, msg_start, len(result))\n",
      "C:\\Users\\Luthfy\\OneDrive\\Documents\\prak-kb-master\\.venv\\lib\\site-packages\\sklearn\\metrics\\_classification.py:1469: UndefinedMetricWarning: Precision and F-score are ill-defined and being set to 0.0 in labels with no predicted samples. Use `zero_division` parameter to control this behavior.\n",
      "  _warn_prf(average, modifier, msg_start, len(result))\n",
      "C:\\Users\\Luthfy\\OneDrive\\Documents\\prak-kb-master\\.venv\\lib\\site-packages\\sklearn\\metrics\\_classification.py:1469: UndefinedMetricWarning: Precision and F-score are ill-defined and being set to 0.0 in labels with no predicted samples. Use `zero_division` parameter to control this behavior.\n",
      "  _warn_prf(average, modifier, msg_start, len(result))\n"
     ]
    }
   ],
   "source": [
    "result = cr(y_test2, y_pred2)\n",
    "print(result)"
   ]
  },
  {
   "cell_type": "markdown",
   "id": "951fe002-0326-40e4-b1c6-33afa44ec336",
   "metadata": {},
   "source": [
    "Hasil prediksi diatas menunjukkan model klasifikasi memiliki tingkat akurasi yang tinggi (1.00), tetapi memiliki kinerja yang buruk dalam mengklasifikasikan kelas minoritas \"OK\"\n",
    "dengan presisi, recall, dan f1-scorenya sebesar 0.00\n",
    "model ini hanya bisa memprediksi mayoritas kelas \"Non-OK\" dan menghasilkan akurasi yang tinggi."
   ]
  },
  {
   "cell_type": "markdown",
   "id": "b180254d-cd97-4fad-8608-37abad74942a",
   "metadata": {},
   "source": [
    "b. Regresi"
   ]
  },
  {
   "cell_type": "code",
   "execution_count": 18,
   "id": "3dc36b51-525b-479a-a770-51ea3450509f",
   "metadata": {},
   "outputs": [],
   "source": [
    "from sklearn.metrics import mean_absolute_error, mean_squared_error, r2_score\n",
    "from numpy import sqrt"
   ]
  },
  {
   "cell_type": "code",
   "execution_count": 19,
   "id": "20f4f5ac-ee7a-49cb-ab31-fb0487d61ac1",
   "metadata": {},
   "outputs": [
    {
     "name": "stdout",
     "output_type": "stream",
     "text": [
      " MAE 0.08195577050689541\n",
      " MSE 0.48069313403802116\n",
      " RMSE 0.6933203689767243]\n",
      " R2 0.7083175773903041\n"
     ]
    }
   ],
   "source": [
    "mae = mean_absolute_error(y_test, y_pred)\n",
    "mse = mean_squared_error(y_test, y_pred)\n",
    "rmse = sqrt(mse)\n",
    "r2 = r2_score(y_test, y_pred)\n",
    "\n",
    "#print(mae, mse, rmse, r2, sep ='\\n')\n",
    "print( f\" MAE {mae}\\n MSE {mse}\\n RMSE {rmse}]\\n R2 {r2}\")"
   ]
  },
  {
   "cell_type": "markdown",
   "id": "9c96602f-6c3c-41f1-bbb8-24cfb951c095",
   "metadata": {},
   "source": [
    "Hasil prediksi diatas menunjukkan bahwa model regresi memiliki mae sekitar 0.081, MSE 0.480, RMSE 0.6933, dan R2 0.708. \n",
    "karena MAE, MSE, dan RMSE memiliki persentase kesalahan yang kecil dan R2 cukup tinggi mendekati angka 1, maka dianggap \n",
    "sebagai indikasi bahwa model cukup baik melakukan prediksi"
   ]
  },
  {
   "cell_type": "markdown",
   "id": "5ca6750f-b272-4087-8615-0eb4d0c77845",
   "metadata": {},
   "source": [
    "##### A3. Plot Hasil Prediksi"
   ]
  },
  {
   "cell_type": "markdown",
   "id": "a596c827-2780-4ecd-bf07-7fd4b5ee5024",
   "metadata": {},
   "source": [
    "a. SVM"
   ]
  },
  {
   "cell_type": "code",
   "execution_count": 20,
   "id": "5fd9a99c-a2ca-4a0e-88bd-4c1214d284fb",
   "metadata": {},
   "outputs": [
    {
     "name": "stderr",
     "output_type": "stream",
     "text": [
      "C:\\Users\\Luthfy\\OneDrive\\Documents\\prak-kb-master\\.venv\\lib\\site-packages\\sklearn\\base.py:465: UserWarning: X does not have valid feature names, but SVC was fitted with feature names\n",
      "  warnings.warn(\n"
     ]
    },
    {
     "data": {
      "text/plain": [
       "Text(0, 0.5, 'Age')"
      ]
     },
     "execution_count": 20,
     "metadata": {},
     "output_type": "execute_result"
    },
    {
     "data": {
      "image/png": "[encoded data removed]",
      "text/plain": [
       "<Figure size 640x480 with 1 Axes>"
      ]
     },
     "metadata": {},
     "output_type": "display_data"
    }
   ],
   "source": [
    "#plot data points dari OK\n",
    "plt.scatter(x2[y2 == 'OK'].iloc[:,0],\n",
    "            x2[y2 == 'OK'].iloc[:,1],\n",
    "            s = 50, c = 'blue', marker ='o', label='OK')\n",
    "\n",
    "#plot data points dari Non-OK\n",
    "plt.scatter(x2[y2 == 'Non-OK'].iloc[:,0],\n",
    "            x2[y2 == 'Non-OK'].iloc[:,1],\n",
    "            s = 30, c = 'red', marker ='o', label='Non-OK')\n",
    "\n",
    "plt.scatter(sv[:,0], sv[:, 1], s= 50,\n",
    "            color = 'ivory', marker = '+' , label ='Support Vectors')\n",
    "\n",
    "# garis Decision Boundary \n",
    "ax = plt.gca() # gca() = \"Get Current Axes\"\n",
    "xlim = ax.get_xlim()\n",
    "ylim = ax.get_ylim()\n",
    "\n",
    "# Buat sebuah meshgrid untuk evaluasi model\n",
    "xx, yy = np.meshgrid(np.linspace(xlim[0], xlim[1]), # Linear Space x\n",
    "np.linspace(ylim[0], ylim[1])) # Linear Space y\n",
    "Z = svm.decision_function(np.c_[xx.ravel(), yy.ravel()]) # Concatenate\n",
    "Z = Z.reshape(xx.shape) # Reshape titik agar sesuai dengan sumbu x\n",
    "# Buat grafik Decision Boundary dan garis Marginnya\n",
    "ax.contour(xx, yy, Z, colors='k', levels=[-1, 0, 1], alpha=0.5,\n",
    "\n",
    "linestyles=['--', '-', '--'])\n",
    "\n",
    "#Plot data points dari support vector\n",
    "# plt.scatter()\n",
    "\n",
    "plt.xlabel(\"Duration\")\n",
    "plt.ylabel(\"Age\")"
   ]
  },
  {
   "cell_type": "code",
   "execution_count": 21,
   "id": "12d30da0-4283-4632-80df-8ff63261fffd",
   "metadata": {},
   "outputs": [
    {
     "data": {
      "image/png": "[encoded data removed]",
      "text/plain": [
       "<Figure size 1000x1000 with 1 Axes>"
      ]
     },
     "metadata": {},
     "output_type": "display_data"
    }
   ],
   "source": [
    "plt.figure(figsize = (10,10))\n",
    "plt.scatter (x_test, y_test, c= \"blue\")\n",
    "plt.plot(x_test, y_pred, c= \"red\", linewidth = 2, label = 'prediction')\n",
    "plt.legend(loc= 'lower right')\n",
    "plt.title('Predict the value of y for variable x')\n",
    "plt.show()"
   ]
  },
  {
   "cell_type": "markdown",
   "id": "ca6ff13f-de14-4396-9ab1-a92d88abf6a4",
   "metadata": {},
   "source": [
    "##### B2. Cluster yang telah diprediksi"
   ]
  },
  {
   "cell_type": "markdown",
   "id": "f57ece24-15aa-4860-a3c8-99925077a6d4",
   "metadata": {},
   "source": [
    "a. Tanpa label asli"
   ]
  },
  {
   "cell_type": "code",
   "execution_count": 22,
   "id": "9cc4c9b6-fba9-403f-bb09-e71c9a88e277",
   "metadata": {},
   "outputs": [],
   "source": [
    "from sklearn.metrics import silhouette_score, davies_bouldin_score, calinski_harabasz_score"
   ]
  },
  {
   "cell_type": "code",
   "execution_count": 23,
   "id": "6b57414c-3dfc-4923-af33-4c17d7d4a568",
   "metadata": {},
   "outputs": [],
   "source": [
    "x = aurel[['inj', 'fat']]\n",
    "K = 2\n",
    "\n",
    "kmeans = KMeans(n_clusters=K, n_init=10) \n",
    "kmeans.fit(x)\n",
    "\n",
    "cluster_labels = kmeans.labels_\n",
    "aurel[\"cluster\"] = cluster_labels\n",
    "centroids = kmeans.cluster_centers_\n",
    "cluster_mapping = {0: 1, 1: 0}\n",
    "aurel['cluster'] = aurel['cluster'].map(cluster_mapping)"
   ]
  },
  {
   "cell_type": "code",
   "execution_count": 24,
   "id": "08646584-d71e-4efb-b09a-b7b46e5d23ed",
   "metadata": {},
   "outputs": [
    {
     "name": "stdout",
     "output_type": "stream",
     "text": [
      "Silhouette Score: 0.99\n",
      "Davies-Bouldin Index: 0.45\n",
      "Calinski-Harabasz Index: 87330.45\n"
     ]
    }
   ],
   "source": [
    "## menghitung metriks clustering\n",
    "def calculate_clustering_metrics(x, labels):\n",
    "    ss_score = silhouette_score(x, labels)\n",
    "    db_index = davies_bouldin_score(x, labels)\n",
    "    ch_index = calinski_harabasz_score(x, labels)\n",
    "    return ss_score, db_index, ch_index\n",
    "\n",
    "#label clustering\n",
    "labels = aurel['cluster']\n",
    "\n",
    "## Hitung metriks clustering\n",
    "ss, db, ch = calculate_clustering_metrics(x, labels)\n",
    "\n",
    "#print hasil \n",
    "print(f\"Silhouette Score: {ss:.2f}\")\n",
    "print(f\"Davies-Bouldin Index: {db:.2f}\")\n",
    "print(f\"Calinski-Harabasz Index: {ch:.2f}\")"
   ]
  },
  {
   "cell_type": "markdown",
   "id": "5b38e7e3-b948-4c53-9371-05373a4bbc39",
   "metadata": {},
   "source": [
    "Dengan Silhouette Score sekitar 0.99, ini menunjukkan bahwa pengelompokan Anda memiliki kelompok yang terpisah dengan baik.\n",
    "Nilai Davies-Bouldin Index sekitar 0.45, ini juga menunjukkan bahwa cluster Anda memiliki pemisahan yang baik.\n",
    "Nilai Calinski-Harabasz Index sekitar 87330.45, ini menunjukkan bahwa pengelompokan Anda memiliki cluster-cluster yang sangat baik.\n",
    "Hasil ini menunjukkan bahwa pengelompokan (clustering) yang diterapkan data memiliki cluster yang terpisah dengan baik dan setiap cluster memiliki kesamaan yang tinggi di antara anggotanya."
   ]
  },
  {
   "cell_type": "markdown",
   "id": "2f9f2ee0-c2f3-4532-b29b-67a2d76f7ece",
   "metadata": {},
   "source": [
    "b. Label Asli"
   ]
  },
  {
   "cell_type": "markdown",
   "id": "59a762cf-9340-407e-9e4e-fcb4a8e1baf3",
   "metadata": {},
   "source": [
    "Ubah label kategorikal menjadi numerik"
   ]
  },
  {
   "cell_type": "code",
   "execution_count": 25,
   "id": "61f28a07-c02c-4f5b-9990-fca535593c3b",
   "metadata": {},
   "outputs": [],
   "source": [
    "# Membuat objek LabelEncoder\n",
    "label_encoder = LabelEncoder()\n",
    "\n",
    "# Menggunakan LabelEncoder untuk mengubah label kategorikal menjadi numerik\n",
    "aurel['fc'] = label_encoder.fit_transform(aurel['fc'])"
   ]
  },
  {
   "cell_type": "code",
   "execution_count": 26,
   "id": "b043fba8-61d9-49ef-9fce-322cde2258d5",
   "metadata": {},
   "outputs": [],
   "source": [
    "from sklearn.metrics import adjusted_rand_score, normalized_mutual_info_score, homogeneity_score, completeness_score"
   ]
  },
  {
   "cell_type": "code",
   "execution_count": 27,
   "id": "c09d8305-cb47-423c-9b66-a6cd2b1ed734",
   "metadata": {},
   "outputs": [
    {
     "name": "stdout",
     "output_type": "stream",
     "text": [
      "Adjusted Rand Index: 1.00\n",
      "Normalized Mutual Information: 1.00\n",
      "Homogeneity: 1.00\n",
      "Completeness: 1.00\n"
     ]
    }
   ],
   "source": [
    "true_labels = aurel['fc']\n",
    "\n",
    "# Evaluasi dengan metrik ARI\n",
    "ari_score = adjusted_rand_score(true_labels, aurel['fc'])\n",
    "print(f\"Adjusted Rand Index: {ari_score:.2f}\")\n",
    "\n",
    "# Evaluasi dengan metrik NMI\n",
    "nmi_score = normalized_mutual_info_score(true_labels, aurel['fc'])\n",
    "print(f\"Normalized Mutual Information: {nmi_score:.2f}\")\n",
    "\n",
    "# Evaluasi dengan metrik homogeneity\n",
    "homogeneity = homogeneity_score(true_labels, aurel['fc'])\n",
    "print(f\"Homogeneity: {homogeneity:.2f}\")\n",
    "\n",
    "# Evaluasi dengan metrik completeness\n",
    "completeness = completeness_score(true_labels, aurel['fc'])\n",
    "print(f\"Completeness: {completeness:.2f}\")"
   ]
  },
  {
   "cell_type": "markdown",
   "id": "a97f9755-0858-4968-9d0e-1d2e920634ae",
   "metadata": {},
   "source": [
    "Hasil yang mendekati 1 pada semua metriks ini menunjukkan bahwa pengelompokan sangat baik dan cluster-cluster yang dihasilkan sangat sesuai dengan data. "
   ]
  },
  {
   "cell_type": "markdown",
   "id": "53553096-a093-4f1b-bd6a-f8f60ee4e5bc",
   "metadata": {},
   "source": [
    "##### B3. Plot hasil clustering"
   ]
  },
  {
   "cell_type": "code",
   "execution_count": 28,
   "id": "97edbf72-5169-4daf-8ff2-e90447055113",
   "metadata": {},
   "outputs": [
    {
     "data": {
      "image/png": "[encoded data removed]",
      "text/plain": [
       "<Figure size 640x480 with 1 Axes>"
      ]
     },
     "metadata": {},
     "output_type": "display_data"
    }
   ],
   "source": [
    "figsize=(10,8)\n",
    "x = aurel[['inj', 'fat']]\n",
    "\n",
    "# Plot data untuk setiap cluster\n",
    "plt.scatter(x[aurel['cluster'] == 0]['inj'],\n",
    "            x[aurel['cluster'] == 0]['fat'],\n",
    "            c='green', label='Cluster 1')\n",
    "plt.scatter(x[aurel['cluster'] == 1]['inj'],\n",
    "            x[aurel['cluster'] == 1]['fat'],\n",
    "            c='orange', label='Cluster 2')\n",
    "\n",
    "# Plot centroids\n",
    "plt.scatter(centroids[:, 0], centroids[:, 1], marker='X',\n",
    "            s=200, c='black', label='Centroids')\n",
    "\n",
    "plt.xlabel('inj')\n",
    "plt.ylabel('fat')\n",
    "plt.title('Clustering with K-Means')\n",
    "plt.legend()\n",
    "plt.show()"
   ]
  }
 ],
 "metadata": {
  "kernelspec": {
   "display_name": "Python 3 (ipykernel)",
   "language": "python",
   "name": "python3"
  },
  "language_info": {
   "codemirror_mode": {
    "name": "ipython",
    "version": 3
   },
   "file_extension": ".py",
   "mimetype": "text/x-python",
   "name": "python",
   "nbconvert_exporter": "python",
   "pygments_lexer": "ipython3",
   "version": "3.10.7"
  }
 },
 "nbformat": 4,
 "nbformat_minor": 5
}
