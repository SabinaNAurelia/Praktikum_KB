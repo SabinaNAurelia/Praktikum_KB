{
 "cells": [
  {
   "cell_type": "markdown",
   "id": "cd0fd7a2-4036-48fa-bab0-abdd9ef05c9a",
   "metadata": {},
   "source": [
    "### Nama : Sabina Nurlatifah Aurelia\n",
    "### NIM  : 2209106002\n",
    "### Kelas: Informatika A 2022"
   ]
  },
  {
   "cell_type": "markdown",
   "id": "7935bb7e-0087-4170-8c65-07a7c67a3721",
   "metadata": {},
   "source": [
    "### Posttest 4"
   ]
  },
  {
   "cell_type": "markdown",
   "id": "7e9a6883-7799-4a6d-bad1-406bc8d552cc",
   "metadata": {},
   "source": [
    "### Data Preprocessing"
   ]
  },
  {
   "cell_type": "markdown",
   "id": "7a23d3b2-aaba-4a84-bcea-0e66bd22be63",
   "metadata": {},
   "source": [
    "##### Import Package"
   ]
  },
  {
   "cell_type": "code",
   "execution_count": 1,
   "id": "828c97ea-7206-490c-a7c1-1c183000c285",
   "metadata": {},
   "outputs": [],
   "source": [
    "from sklearn.model_selection import train_test_split\n",
    "from sklearn.preprocessing import MinMaxScaler\n",
    "from sklearn.preprocessing import StandardScaler\n",
    "from sklearn.preprocessing import OneHotEncoder\n",
    "from sklearn.impute import SimpleImputer\n",
    "import pandas as pd\n",
    "import numpy as np"
   ]
  },
  {
   "cell_type": "markdown",
   "id": "1fbfc835-f267-4093-9e67-0d5dc78ac4c5",
   "metadata": {},
   "source": [
    "##### Read File csv"
   ]
  },
  {
   "cell_type": "code",
   "execution_count": 21,
   "id": "e47545b9-fb7e-4e9e-a143-525b50ef4f91",
   "metadata": {},
   "outputs": [
    {
     "data": {
      "text/html": [
       "<div>\n",
       "<style scoped>\n",
       "    .dataframe tbody tr th:only-of-type {\n",
       "        vertical-align: middle;\n",
       "    }\n",
       "\n",
       "    .dataframe tbody tr th {\n",
       "        vertical-align: top;\n",
       "    }\n",
       "\n",
       "    .dataframe thead th {\n",
       "        text-align: right;\n",
       "    }\n",
       "</style>\n",
       "<table border=\"1\" class=\"dataframe\">\n",
       "  <thead>\n",
       "    <tr style=\"text-align: right;\">\n",
       "      <th></th>\n",
       "      <th>om</th>\n",
       "      <th>yr</th>\n",
       "      <th>mo</th>\n",
       "      <th>dy</th>\n",
       "      <th>date</th>\n",
       "      <th>time</th>\n",
       "      <th>tz</th>\n",
       "      <th>datetime_utc</th>\n",
       "      <th>st</th>\n",
       "      <th>stf</th>\n",
       "      <th>...</th>\n",
       "      <th>elon</th>\n",
       "      <th>len</th>\n",
       "      <th>wid</th>\n",
       "      <th>ns</th>\n",
       "      <th>sn</th>\n",
       "      <th>f1</th>\n",
       "      <th>f2</th>\n",
       "      <th>f3</th>\n",
       "      <th>f4</th>\n",
       "      <th>fc</th>\n",
       "    </tr>\n",
       "  </thead>\n",
       "  <tbody>\n",
       "    <tr>\n",
       "      <th>0</th>\n",
       "      <td>192</td>\n",
       "      <td>1950</td>\n",
       "      <td>10</td>\n",
       "      <td>1</td>\n",
       "      <td>1950-10-01</td>\n",
       "      <td>21:00:00</td>\n",
       "      <td>America/Chicago</td>\n",
       "      <td>1950-10-02T03:00:00Z</td>\n",
       "      <td>OK</td>\n",
       "      <td>40</td>\n",
       "      <td>...</td>\n",
       "      <td>-102.3000</td>\n",
       "      <td>15.80</td>\n",
       "      <td>10</td>\n",
       "      <td>1</td>\n",
       "      <td>1</td>\n",
       "      <td>25</td>\n",
       "      <td>0</td>\n",
       "      <td>0</td>\n",
       "      <td>0</td>\n",
       "      <td>False</td>\n",
       "    </tr>\n",
       "    <tr>\n",
       "      <th>1</th>\n",
       "      <td>193</td>\n",
       "      <td>1950</td>\n",
       "      <td>10</td>\n",
       "      <td>9</td>\n",
       "      <td>1950-10-09</td>\n",
       "      <td>02:15:00</td>\n",
       "      <td>America/Chicago</td>\n",
       "      <td>1950-10-09T08:15:00Z</td>\n",
       "      <td>NC</td>\n",
       "      <td>37</td>\n",
       "      <td>...</td>\n",
       "      <td>0.0000</td>\n",
       "      <td>2.00</td>\n",
       "      <td>880</td>\n",
       "      <td>1</td>\n",
       "      <td>1</td>\n",
       "      <td>47</td>\n",
       "      <td>0</td>\n",
       "      <td>0</td>\n",
       "      <td>0</td>\n",
       "      <td>False</td>\n",
       "    </tr>\n",
       "    <tr>\n",
       "      <th>2</th>\n",
       "      <td>195</td>\n",
       "      <td>1950</td>\n",
       "      <td>11</td>\n",
       "      <td>20</td>\n",
       "      <td>1950-11-20</td>\n",
       "      <td>02:20:00</td>\n",
       "      <td>America/Chicago</td>\n",
       "      <td>1950-11-20T08:20:00Z</td>\n",
       "      <td>KY</td>\n",
       "      <td>21</td>\n",
       "      <td>...</td>\n",
       "      <td>0.0000</td>\n",
       "      <td>0.10</td>\n",
       "      <td>10</td>\n",
       "      <td>1</td>\n",
       "      <td>1</td>\n",
       "      <td>177</td>\n",
       "      <td>0</td>\n",
       "      <td>0</td>\n",
       "      <td>0</td>\n",
       "      <td>False</td>\n",
       "    </tr>\n",
       "    <tr>\n",
       "      <th>3</th>\n",
       "      <td>196</td>\n",
       "      <td>1950</td>\n",
       "      <td>11</td>\n",
       "      <td>20</td>\n",
       "      <td>1950-11-20</td>\n",
       "      <td>04:00:00</td>\n",
       "      <td>America/Chicago</td>\n",
       "      <td>1950-11-20T10:00:00Z</td>\n",
       "      <td>KY</td>\n",
       "      <td>21</td>\n",
       "      <td>...</td>\n",
       "      <td>0.0000</td>\n",
       "      <td>0.10</td>\n",
       "      <td>10</td>\n",
       "      <td>1</td>\n",
       "      <td>1</td>\n",
       "      <td>209</td>\n",
       "      <td>0</td>\n",
       "      <td>0</td>\n",
       "      <td>0</td>\n",
       "      <td>False</td>\n",
       "    </tr>\n",
       "    <tr>\n",
       "      <th>4</th>\n",
       "      <td>197</td>\n",
       "      <td>1950</td>\n",
       "      <td>11</td>\n",
       "      <td>20</td>\n",
       "      <td>1950-11-20</td>\n",
       "      <td>07:30:00</td>\n",
       "      <td>America/Chicago</td>\n",
       "      <td>1950-11-20T13:30:00Z</td>\n",
       "      <td>MS</td>\n",
       "      <td>28</td>\n",
       "      <td>...</td>\n",
       "      <td>0.0000</td>\n",
       "      <td>2.00</td>\n",
       "      <td>37</td>\n",
       "      <td>1</td>\n",
       "      <td>1</td>\n",
       "      <td>101</td>\n",
       "      <td>0</td>\n",
       "      <td>0</td>\n",
       "      <td>0</td>\n",
       "      <td>False</td>\n",
       "    </tr>\n",
       "    <tr>\n",
       "      <th>...</th>\n",
       "      <td>...</td>\n",
       "      <td>...</td>\n",
       "      <td>...</td>\n",
       "      <td>...</td>\n",
       "      <td>...</td>\n",
       "      <td>...</td>\n",
       "      <td>...</td>\n",
       "      <td>...</td>\n",
       "      <td>...</td>\n",
       "      <td>...</td>\n",
       "      <td>...</td>\n",
       "      <td>...</td>\n",
       "      <td>...</td>\n",
       "      <td>...</td>\n",
       "      <td>...</td>\n",
       "      <td>...</td>\n",
       "      <td>...</td>\n",
       "      <td>...</td>\n",
       "      <td>...</td>\n",
       "      <td>...</td>\n",
       "      <td>...</td>\n",
       "    </tr>\n",
       "    <tr>\n",
       "      <th>68688</th>\n",
       "      <td>621922</td>\n",
       "      <td>2022</td>\n",
       "      <td>9</td>\n",
       "      <td>28</td>\n",
       "      <td>2022-09-28</td>\n",
       "      <td>13:32:00</td>\n",
       "      <td>America/Chicago</td>\n",
       "      <td>2022-09-28T18:32:00Z</td>\n",
       "      <td>FL</td>\n",
       "      <td>12</td>\n",
       "      <td>...</td>\n",
       "      <td>-80.8841</td>\n",
       "      <td>3.00</td>\n",
       "      <td>100</td>\n",
       "      <td>1</td>\n",
       "      <td>1</td>\n",
       "      <td>9</td>\n",
       "      <td>0</td>\n",
       "      <td>0</td>\n",
       "      <td>0</td>\n",
       "      <td>False</td>\n",
       "    </tr>\n",
       "    <tr>\n",
       "      <th>68689</th>\n",
       "      <td>621923</td>\n",
       "      <td>2022</td>\n",
       "      <td>9</td>\n",
       "      <td>30</td>\n",
       "      <td>2022-09-30</td>\n",
       "      <td>10:25:00</td>\n",
       "      <td>America/Chicago</td>\n",
       "      <td>2022-09-30T15:25:00Z</td>\n",
       "      <td>NC</td>\n",
       "      <td>37</td>\n",
       "      <td>...</td>\n",
       "      <td>-78.3011</td>\n",
       "      <td>0.74</td>\n",
       "      <td>20</td>\n",
       "      <td>1</td>\n",
       "      <td>1</td>\n",
       "      <td>19</td>\n",
       "      <td>0</td>\n",
       "      <td>0</td>\n",
       "      <td>0</td>\n",
       "      <td>False</td>\n",
       "    </tr>\n",
       "    <tr>\n",
       "      <th>68690</th>\n",
       "      <td>621924</td>\n",
       "      <td>2022</td>\n",
       "      <td>9</td>\n",
       "      <td>30</td>\n",
       "      <td>2022-09-30</td>\n",
       "      <td>13:22:00</td>\n",
       "      <td>America/Chicago</td>\n",
       "      <td>2022-09-30T18:22:00Z</td>\n",
       "      <td>NC</td>\n",
       "      <td>37</td>\n",
       "      <td>...</td>\n",
       "      <td>-76.7147</td>\n",
       "      <td>0.70</td>\n",
       "      <td>12</td>\n",
       "      <td>1</td>\n",
       "      <td>1</td>\n",
       "      <td>13</td>\n",
       "      <td>0</td>\n",
       "      <td>0</td>\n",
       "      <td>0</td>\n",
       "      <td>False</td>\n",
       "    </tr>\n",
       "    <tr>\n",
       "      <th>68691</th>\n",
       "      <td>621900</td>\n",
       "      <td>2022</td>\n",
       "      <td>9</td>\n",
       "      <td>4</td>\n",
       "      <td>2022-09-04</td>\n",
       "      <td>15:44:00</td>\n",
       "      <td>America/Chicago</td>\n",
       "      <td>2022-09-04T20:44:00Z</td>\n",
       "      <td>OH</td>\n",
       "      <td>39</td>\n",
       "      <td>...</td>\n",
       "      <td>-80.6555</td>\n",
       "      <td>0.07</td>\n",
       "      <td>15</td>\n",
       "      <td>1</td>\n",
       "      <td>1</td>\n",
       "      <td>99</td>\n",
       "      <td>0</td>\n",
       "      <td>0</td>\n",
       "      <td>0</td>\n",
       "      <td>False</td>\n",
       "    </tr>\n",
       "    <tr>\n",
       "      <th>68692</th>\n",
       "      <td>621901</td>\n",
       "      <td>2022</td>\n",
       "      <td>9</td>\n",
       "      <td>9</td>\n",
       "      <td>2022-09-09</td>\n",
       "      <td>23:21:00</td>\n",
       "      <td>America/Chicago</td>\n",
       "      <td>2022-09-10T04:21:00Z</td>\n",
       "      <td>SC</td>\n",
       "      <td>45</td>\n",
       "      <td>...</td>\n",
       "      <td>-79.7537</td>\n",
       "      <td>0.68</td>\n",
       "      <td>125</td>\n",
       "      <td>1</td>\n",
       "      <td>1</td>\n",
       "      <td>19</td>\n",
       "      <td>0</td>\n",
       "      <td>0</td>\n",
       "      <td>0</td>\n",
       "      <td>False</td>\n",
       "    </tr>\n",
       "  </tbody>\n",
       "</table>\n",
       "<p>68693 rows × 27 columns</p>\n",
       "</div>"
      ],
      "text/plain": [
       "           om    yr  mo  dy        date      time               tz  \\\n",
       "0         192  1950  10   1  1950-10-01  21:00:00  America/Chicago   \n",
       "1         193  1950  10   9  1950-10-09  02:15:00  America/Chicago   \n",
       "2         195  1950  11  20  1950-11-20  02:20:00  America/Chicago   \n",
       "3         196  1950  11  20  1950-11-20  04:00:00  America/Chicago   \n",
       "4         197  1950  11  20  1950-11-20  07:30:00  America/Chicago   \n",
       "...       ...   ...  ..  ..         ...       ...              ...   \n",
       "68688  621922  2022   9  28  2022-09-28  13:32:00  America/Chicago   \n",
       "68689  621923  2022   9  30  2022-09-30  10:25:00  America/Chicago   \n",
       "68690  621924  2022   9  30  2022-09-30  13:22:00  America/Chicago   \n",
       "68691  621900  2022   9   4  2022-09-04  15:44:00  America/Chicago   \n",
       "68692  621901  2022   9   9  2022-09-09  23:21:00  America/Chicago   \n",
       "\n",
       "               datetime_utc  st  stf  ...      elon    len  wid  ns  sn   f1  \\\n",
       "0      1950-10-02T03:00:00Z  OK   40  ... -102.3000  15.80   10   1   1   25   \n",
       "1      1950-10-09T08:15:00Z  NC   37  ...    0.0000   2.00  880   1   1   47   \n",
       "2      1950-11-20T08:20:00Z  KY   21  ...    0.0000   0.10   10   1   1  177   \n",
       "3      1950-11-20T10:00:00Z  KY   21  ...    0.0000   0.10   10   1   1  209   \n",
       "4      1950-11-20T13:30:00Z  MS   28  ...    0.0000   2.00   37   1   1  101   \n",
       "...                     ...  ..  ...  ...       ...    ...  ...  ..  ..  ...   \n",
       "68688  2022-09-28T18:32:00Z  FL   12  ...  -80.8841   3.00  100   1   1    9   \n",
       "68689  2022-09-30T15:25:00Z  NC   37  ...  -78.3011   0.74   20   1   1   19   \n",
       "68690  2022-09-30T18:22:00Z  NC   37  ...  -76.7147   0.70   12   1   1   13   \n",
       "68691  2022-09-04T20:44:00Z  OH   39  ...  -80.6555   0.07   15   1   1   99   \n",
       "68692  2022-09-10T04:21:00Z  SC   45  ...  -79.7537   0.68  125   1   1   19   \n",
       "\n",
       "       f2  f3  f4     fc  \n",
       "0       0   0   0  False  \n",
       "1       0   0   0  False  \n",
       "2       0   0   0  False  \n",
       "3       0   0   0  False  \n",
       "4       0   0   0  False  \n",
       "...    ..  ..  ..    ...  \n",
       "68688   0   0   0  False  \n",
       "68689   0   0   0  False  \n",
       "68690   0   0   0  False  \n",
       "68691   0   0   0  False  \n",
       "68692   0   0   0  False  \n",
       "\n",
       "[68693 rows x 27 columns]"
      ]
     },
     "execution_count": 21,
     "metadata": {},
     "output_type": "execute_result"
    }
   ],
   "source": [
    "aurel= pd.read_csv('tornados.csv')\n",
    "aurel"
   ]
  },
  {
   "cell_type": "code",
   "execution_count": 3,
   "id": "0c5dc37b-07c4-4e8d-bee1-7b90fff48025",
   "metadata": {},
   "outputs": [
    {
     "name": "stdout",
     "output_type": "stream",
     "text": [
      "<class 'pandas.core.frame.DataFrame'>\n",
      "RangeIndex: 68693 entries, 0 to 68692\n",
      "Data columns (total 27 columns):\n",
      " #   Column        Non-Null Count  Dtype  \n",
      "---  ------        --------------  -----  \n",
      " 0   om            68693 non-null  int64  \n",
      " 1   yr            68693 non-null  int64  \n",
      " 2   mo            68693 non-null  int64  \n",
      " 3   dy            68693 non-null  int64  \n",
      " 4   date          68693 non-null  object \n",
      " 5   time          68693 non-null  object \n",
      " 6   tz            68693 non-null  object \n",
      " 7   datetime_utc  68693 non-null  object \n",
      " 8   st            68693 non-null  object \n",
      " 9   stf           68693 non-null  int64  \n",
      " 10  mag           67937 non-null  float64\n",
      " 11  inj           68693 non-null  int64  \n",
      " 12  fat           68693 non-null  int64  \n",
      " 13  loss          41523 non-null  float64\n",
      " 14  slat          68693 non-null  float64\n",
      " 15  slon          68693 non-null  float64\n",
      " 16  elat          68693 non-null  float64\n",
      " 17  elon          68693 non-null  float64\n",
      " 18  len           68693 non-null  float64\n",
      " 19  wid           68693 non-null  int64  \n",
      " 20  ns            68693 non-null  int64  \n",
      " 21  sn            68693 non-null  int64  \n",
      " 22  f1            68693 non-null  int64  \n",
      " 23  f2            68693 non-null  int64  \n",
      " 24  f3            68693 non-null  int64  \n",
      " 25  f4            68693 non-null  int64  \n",
      " 26  fc            68693 non-null  bool   \n",
      "dtypes: bool(1), float64(7), int64(14), object(5)\n",
      "memory usage: 13.7+ MB\n"
     ]
    }
   ],
   "source": [
    "aurel.info()"
   ]
  },
  {
   "cell_type": "markdown",
   "id": "75c76a6c-3889-487c-baa0-8517f5062446",
   "metadata": {},
   "source": [
    "#### 1. Membagi dataset menjadi training set dan test set dengan proporsi 70:30"
   ]
  },
  {
   "cell_type": "code",
   "execution_count": 4,
   "id": "8957e97c-fd87-4f1c-bd27-f92ec5d93058",
   "metadata": {},
   "outputs": [],
   "source": [
    "x = aurel.iloc[:,:-1]\n",
    "y = aurel.iloc[:,-1]"
   ]
  },
  {
   "cell_type": "code",
   "execution_count": 5,
   "id": "ec956fc8-6e99-4ed8-81c4-4c588dcfe317",
   "metadata": {},
   "outputs": [],
   "source": [
    "x_train, x_test, y_train, y_test = train_test_split(x, y, test_size= 0.3)"
   ]
  },
  {
   "cell_type": "code",
   "execution_count": 6,
   "id": "b23a2fea-8513-406f-9186-de789e945b78",
   "metadata": {},
   "outputs": [
    {
     "name": "stdout",
     "output_type": "stream",
     "text": [
      "Dimensi x_train :  (48085, 26)\n",
      "Dimensi x_test :  (20608, 26)\n",
      "Dimensi y_train :  (48085,)\n",
      "Dimensi y_test :  (20608,)\n"
     ]
    }
   ],
   "source": [
    "print ('Dimensi x_train : ',x_train.shape)\n",
    "print ('Dimensi x_test : ',x_test.shape)\n",
    "print ('Dimensi y_train : ', y_train.shape)\n",
    "print ('Dimensi y_test : ',y_test.shape)"
   ]
  },
  {
   "cell_type": "markdown",
   "id": "8dc3bef7-d9c3-4f09-8362-91e9d7cf177f",
   "metadata": {},
   "source": [
    "#### 2. Normalisasi pada salah satu attribute menggunakan MinMaxScaler"
   ]
  },
  {
   "cell_type": "code",
   "execution_count": 7,
   "id": "22d2ed11-0fed-4185-9524-841bfe30a818",
   "metadata": {},
   "outputs": [],
   "source": [
    "aureli = pd.read_csv('tornados copy.csv')"
   ]
  },
  {
   "cell_type": "code",
   "execution_count": 8,
   "id": "5fcb5166-213e-464d-9de9-39599cf702bd",
   "metadata": {},
   "outputs": [],
   "source": [
    "minmax = MinMaxScaler()"
   ]
  },
  {
   "cell_type": "code",
   "execution_count": 9,
   "id": "77069ba9-e634-4873-8cc8-315ea3507f66",
   "metadata": {},
   "outputs": [],
   "source": [
    "aureli['ns'] = minmax.fit_transform(aureli[['ns']])"
   ]
  },
  {
   "cell_type": "code",
   "execution_count": 48,
   "id": "57b064c2-ab47-42f4-90a1-4f06b3e95220",
   "metadata": {},
   "outputs": [
    {
     "name": "stdout",
     "output_type": "stream",
     "text": [
      "Sebelum normalisasi pada kolom number of states: \n",
      "count    68692.000000\n",
      "mean         1.008764\n",
      "std          0.095060\n",
      "min          1.000000\n",
      "25%          1.000000\n",
      "50%          1.000000\n",
      "75%          1.000000\n",
      "max          3.000000\n",
      "Name: ns, dtype: float64\n"
     ]
    }
   ],
   "source": [
    "print ('Sebelum normalisasi pada kolom number of states: ')\n",
    "print (aurel['ns'].describe())"
   ]
  },
  {
   "cell_type": "code",
   "execution_count": 49,
   "id": "60eda5cb-6eb6-4156-88d4-cf76b46bfd1a",
   "metadata": {},
   "outputs": [
    {
     "name": "stdout",
     "output_type": "stream",
     "text": [
      "Sesudah normalisasi pada kolom number of states: \n",
      "count    68693.000000\n",
      "mean         0.004382\n",
      "std          0.047530\n",
      "min          0.000000\n",
      "25%          0.000000\n",
      "50%          0.000000\n",
      "75%          0.000000\n",
      "max          1.000000\n",
      "Name: ns, dtype: float64\n"
     ]
    }
   ],
   "source": [
    "print ('Sesudah normalisasi pada kolom number of states: ')\n",
    "print (aureli['ns'].describe())"
   ]
  },
  {
   "cell_type": "markdown",
   "id": "7758310e-dfc1-48dd-a640-ef6d19fb949c",
   "metadata": {},
   "source": [
    "#### 3. Melakukan standarisasi pada dataset"
   ]
  },
  {
   "cell_type": "code",
   "execution_count": 12,
   "id": "6171a863-5ac0-4d03-ad18-7f61735f5020",
   "metadata": {},
   "outputs": [],
   "source": [
    "aurelia = pd.read_csv('tornados copy2.csv')"
   ]
  },
  {
   "cell_type": "code",
   "execution_count": 13,
   "id": "8827452c-4931-40fa-9765-14ed58182cd5",
   "metadata": {},
   "outputs": [],
   "source": [
    "ss= StandardScaler()"
   ]
  },
  {
   "cell_type": "code",
   "execution_count": 14,
   "id": "725cb89d-1d8b-48da-85e3-3f057199637e",
   "metadata": {},
   "outputs": [],
   "source": [
    "aurelia['ns'] = ss.fit_transform(aurelia[['ns']])"
   ]
  },
  {
   "cell_type": "code",
   "execution_count": 15,
   "id": "f4dde674-bbbb-48e0-a9e9-92af74df1fa1",
   "metadata": {},
   "outputs": [
    {
     "name": "stdout",
     "output_type": "stream",
     "text": [
      "Nilai sebelum deviasi standar: \n",
      "0.09505897568116929\n",
      "Nilai sebelum data scaling:\n",
      "0        1\n",
      "1        1\n",
      "2        1\n",
      "3        1\n",
      "4        1\n",
      "        ..\n",
      "68688    1\n",
      "68689    1\n",
      "68690    1\n",
      "68691    1\n",
      "68692    1\n",
      "Name: ns, Length: 68693, dtype: int64\n"
     ]
    }
   ],
   "source": [
    "print(\"Nilai sebelum deviasi standar: \")\n",
    "print(np.std(aurel['ns']))\n",
    "print('Nilai sebelum data scaling:')\n",
    "print(aurel['ns'])"
   ]
  },
  {
   "cell_type": "code",
   "execution_count": 16,
   "id": "1eeb555b-199d-4c4f-a791-42618633d86d",
   "metadata": {},
   "outputs": [
    {
     "name": "stdout",
     "output_type": "stream",
     "text": [
      "Nilai sesudah deviasi standar: \n",
      "1.0\n",
      "Nilai sesudah data scaling:\n",
      "0       -0.092191\n",
      "1       -0.092191\n",
      "2       -0.092191\n",
      "3       -0.092191\n",
      "4       -0.092191\n",
      "           ...   \n",
      "68688   -0.092191\n",
      "68689   -0.092191\n",
      "68690   -0.092191\n",
      "68691   -0.092191\n",
      "68692   -0.092191\n",
      "Name: ns, Length: 68693, dtype: float64\n"
     ]
    }
   ],
   "source": [
    "print(\"Nilai sesudah deviasi standar: \")\n",
    "print(np.std(aurelia['ns']))\n",
    "print('Nilai sesudah data scaling:')\n",
    "print(aurelia['ns'])"
   ]
  },
  {
   "cell_type": "markdown",
   "id": "9d94b537-4b41-466f-bfda-491365dccaa3",
   "metadata": {},
   "source": [
    "#### 4. Data cleaning pada data dengan nilai null dan mengubah nilai null sesuai dengan ketentuan"
   ]
  },
  {
   "cell_type": "code",
   "execution_count": 50,
   "id": "ec1f0b3b-bb02-4923-aed3-b6e07a75e999",
   "metadata": {},
   "outputs": [
    {
     "data": {
      "text/plain": [
       "om                  0\n",
       "yr                  0\n",
       "mo                  0\n",
       "dy                  0\n",
       "date                0\n",
       "time                0\n",
       "tz                  0\n",
       "datetime_utc        0\n",
       "st                  0\n",
       "stf                 0\n",
       "mag                 0\n",
       "inj                 0\n",
       "fat                 0\n",
       "loss            27170\n",
       "slat                0\n",
       "slon                0\n",
       "elat                0\n",
       "elon                0\n",
       "len                 0\n",
       "wid                 0\n",
       "ns                  0\n",
       "sn                  0\n",
       "f1                  0\n",
       "f2                  0\n",
       "f3                  0\n",
       "f4                  0\n",
       "fc                  0\n",
       "Yes                 1\n",
       "No                  1\n",
       "dtype: int64"
      ]
     },
     "execution_count": 50,
     "metadata": {},
     "output_type": "execute_result"
    }
   ],
   "source": [
    "aurel.isna().sum()"
   ]
  },
  {
   "cell_type": "code",
   "execution_count": 18,
   "id": "3d4dbb44-95d9-4ce2-bcd8-1f6fe76e5c19",
   "metadata": {},
   "outputs": [],
   "source": [
    "aurel.loc[0:, 'tz'] = np.nan #object\n",
    "aurel.loc[0:, 'ns'] = np.nan #int"
   ]
  },
  {
   "cell_type": "code",
   "execution_count": 19,
   "id": "48777670-5ec4-4b30-a009-1b048e8977ae",
   "metadata": {},
   "outputs": [
    {
     "data": {
      "text/plain": [
       "om                  0\n",
       "yr                  0\n",
       "mo                  0\n",
       "dy                  0\n",
       "date                0\n",
       "time                0\n",
       "tz              68693\n",
       "datetime_utc        0\n",
       "st                  0\n",
       "stf                 0\n",
       "mag               756\n",
       "inj                 0\n",
       "fat                 0\n",
       "loss            27170\n",
       "slat                0\n",
       "slon                0\n",
       "elat                0\n",
       "elon                0\n",
       "len                 0\n",
       "wid                 0\n",
       "ns              68693\n",
       "sn                  0\n",
       "f1                  0\n",
       "f2                  0\n",
       "f3                  0\n",
       "f4                  0\n",
       "fc                  0\n",
       "dtype: int64"
      ]
     },
     "execution_count": 19,
     "metadata": {},
     "output_type": "execute_result"
    }
   ],
   "source": [
    "aurel.isna().sum()"
   ]
  },
  {
   "cell_type": "markdown",
   "id": "ae1e1cfa-5c7b-4934-8b74-20ee3b89132c",
   "metadata": {},
   "source": [
    "##### - mengganti nilai null pada kolom teks dengan modus"
   ]
  },
  {
   "cell_type": "code",
   "execution_count": 22,
   "id": "42374615-6386-41b7-a096-25891c980eb1",
   "metadata": {},
   "outputs": [],
   "source": [
    "modus= aurel['tz'].mode()[0]\n",
    "aurel['tz'].fillna(modus, inplace=True)"
   ]
  },
  {
   "cell_type": "markdown",
   "id": "13532cdc-a4dc-4d34-887b-aaf3875a6a5b",
   "metadata": {},
   "source": [
    "##### - mengganti nilai null pada bilangan bulat dengan median"
   ]
  },
  {
   "cell_type": "code",
   "execution_count": 23,
   "id": "083add0e-6f12-4875-bcd5-cd99d3cc251f",
   "metadata": {},
   "outputs": [],
   "source": [
    "median= aurel['ns'].median()\n",
    "aurel['ns'].fillna(median, inplace=True)"
   ]
  },
  {
   "cell_type": "markdown",
   "id": "797e7a5f-9aa5-4405-a6de-08615beb4570",
   "metadata": {},
   "source": [
    "##### - mengganti nilai null pada bilangan desimal dengan mean"
   ]
  },
  {
   "cell_type": "code",
   "execution_count": 24,
   "id": "2000194a-a96b-45f2-92f8-dd393ee611ba",
   "metadata": {},
   "outputs": [],
   "source": [
    "mean= aurel['mag'].mean()\n",
    "aurel['mag'].fillna(mean, inplace=True)"
   ]
  },
  {
   "cell_type": "markdown",
   "id": "dbf1f39b-0b84-4743-b5a4-934118f9e665",
   "metadata": {},
   "source": [
    "#### 5. Data cleaning pada data dengan nilai duplikat"
   ]
  },
  {
   "cell_type": "code",
   "execution_count": 25,
   "id": "43d2d416-5dfd-428d-a6d5-bd010a60ad1b",
   "metadata": {},
   "outputs": [
    {
     "data": {
      "text/plain": [
       "0        False\n",
       "1        False\n",
       "2        False\n",
       "3        False\n",
       "4        False\n",
       "         ...  \n",
       "68688    False\n",
       "68689    False\n",
       "68690    False\n",
       "68691    False\n",
       "68692    False\n",
       "Length: 68693, dtype: bool"
      ]
     },
     "execution_count": 25,
     "metadata": {},
     "output_type": "execute_result"
    }
   ],
   "source": [
    "aurel.duplicated()"
   ]
  },
  {
   "cell_type": "code",
   "execution_count": 26,
   "id": "0e2f64b7-94a9-4f53-b760-8afe3e69770b",
   "metadata": {},
   "outputs": [],
   "source": [
    "aurel = pd.concat([aurel, aurel.sample(n=3, random_state=42)])"
   ]
  },
  {
   "cell_type": "code",
   "execution_count": 29,
   "id": "471f2032-9d55-4831-a5b5-08d2be854da4",
   "metadata": {},
   "outputs": [
    {
     "data": {
      "text/plain": [
       "0        False\n",
       "1        False\n",
       "2        False\n",
       "3        False\n",
       "4        False\n",
       "         ...  \n",
       "68691    False\n",
       "68692    False\n",
       "47119     True\n",
       "64543     True\n",
       "41485     True\n",
       "Length: 68696, dtype: bool"
      ]
     },
     "execution_count": 29,
     "metadata": {},
     "output_type": "execute_result"
    }
   ],
   "source": [
    "aurel.duplicated()"
   ]
  },
  {
   "cell_type": "code",
   "execution_count": 30,
   "id": "01a7e4a6-43b6-4fe5-a42b-afd0086d29ac",
   "metadata": {},
   "outputs": [],
   "source": [
    "aurel.drop_duplicates(inplace= True)"
   ]
  },
  {
   "cell_type": "code",
   "execution_count": 32,
   "id": "4ff7637c-b76a-4634-93d9-d079e0349dcb",
   "metadata": {},
   "outputs": [
    {
     "data": {
      "text/plain": [
       "0        False\n",
       "1        False\n",
       "2        False\n",
       "3        False\n",
       "4        False\n",
       "         ...  \n",
       "68688    False\n",
       "68689    False\n",
       "68690    False\n",
       "68691    False\n",
       "68692    False\n",
       "Length: 68692, dtype: bool"
      ]
     },
     "execution_count": 32,
     "metadata": {},
     "output_type": "execute_result"
    }
   ],
   "source": [
    "aurel.duplicated()"
   ]
  },
  {
   "cell_type": "markdown",
   "id": "1e4be117-7321-4e6f-8762-ab34ef14a6a3",
   "metadata": {},
   "source": [
    "mengganti tipe data"
   ]
  },
  {
   "cell_type": "markdown",
   "id": "2807dc0d-bbb1-412b-bb67-021c29e761a7",
   "metadata": {},
   "source": [
    "#### 6. Mengganti tipe data salah satu attribute angka"
   ]
  },
  {
   "cell_type": "markdown",
   "id": "a05361c0-cf5d-4da7-8a10-f208eaad9640",
   "metadata": {},
   "source": [
    "##### mengganti tipe data wid dari int menjadi float"
   ]
  },
  {
   "cell_type": "code",
   "execution_count": 34,
   "id": "5bd88711-7ec1-49be-8905-adb82b0d8f5e",
   "metadata": {},
   "outputs": [],
   "source": [
    "aurel['wid'] = aurel['wid'].astype(float)"
   ]
  },
  {
   "cell_type": "code",
   "execution_count": 36,
   "id": "e371aa7f-e838-4e5c-8825-ee4201c813b6",
   "metadata": {},
   "outputs": [
    {
     "name": "stdout",
     "output_type": "stream",
     "text": [
      "<class 'pandas.core.frame.DataFrame'>\n",
      "Index: 68692 entries, 0 to 68692\n",
      "Data columns (total 27 columns):\n",
      " #   Column        Non-Null Count  Dtype  \n",
      "---  ------        --------------  -----  \n",
      " 0   om            68692 non-null  int64  \n",
      " 1   yr            68692 non-null  int64  \n",
      " 2   mo            68692 non-null  int64  \n",
      " 3   dy            68692 non-null  int64  \n",
      " 4   date          68692 non-null  object \n",
      " 5   time          68692 non-null  object \n",
      " 6   tz            68692 non-null  object \n",
      " 7   datetime_utc  68692 non-null  object \n",
      " 8   st            68692 non-null  object \n",
      " 9   stf           68692 non-null  int64  \n",
      " 10  mag           68692 non-null  float64\n",
      " 11  inj           68692 non-null  int64  \n",
      " 12  fat           68692 non-null  int64  \n",
      " 13  loss          41522 non-null  float64\n",
      " 14  slat          68692 non-null  float64\n",
      " 15  slon          68692 non-null  float64\n",
      " 16  elat          68692 non-null  float64\n",
      " 17  elon          68692 non-null  float64\n",
      " 18  len           68692 non-null  float64\n",
      " 19  wid           68692 non-null  float64\n",
      " 20  ns            68692 non-null  int64  \n",
      " 21  sn            68692 non-null  int64  \n",
      " 22  f1            68692 non-null  int64  \n",
      " 23  f2            68692 non-null  int64  \n",
      " 24  f3            68692 non-null  int64  \n",
      " 25  f4            68692 non-null  int64  \n",
      " 26  fc            68692 non-null  bool   \n",
      "dtypes: bool(1), float64(8), int64(13), object(5)\n",
      "memory usage: 14.2+ MB\n"
     ]
    }
   ],
   "source": [
    "aurel.info()"
   ]
  },
  {
   "cell_type": "markdown",
   "id": "385c2f89-3d11-4e27-acbc-328bf4075096",
   "metadata": {},
   "source": [
    "hot encoding"
   ]
  },
  {
   "cell_type": "markdown",
   "id": "c35f1d28-d0b3-4dbc-848a-d369ff8ad101",
   "metadata": {},
   "source": [
    "#### 7. Melakukan One Hot Encoding pada dataset"
   ]
  },
  {
   "cell_type": "code",
   "execution_count": 44,
   "id": "6538ff98-072b-4256-a7db-8a905272a723",
   "metadata": {},
   "outputs": [
    {
     "data": {
      "text/plain": [
       "array([[1., 0.],\n",
       "       [1., 0.],\n",
       "       [1., 0.],\n",
       "       ...,\n",
       "       [1., 0.],\n",
       "       [1., 0.],\n",
       "       [1., 0.]])"
      ]
     },
     "execution_count": 44,
     "metadata": {},
     "output_type": "execute_result"
    }
   ],
   "source": [
    "ohe = OneHotEncoder(sparse_output= False)\n",
    "ohe.fit_transform(aurel[['fc']])"
   ]
  },
  {
   "cell_type": "code",
   "execution_count": 46,
   "id": "8cd7b5ce-0d32-4c04-94c7-f6455b3d2bcf",
   "metadata": {},
   "outputs": [
    {
     "name": "stderr",
     "output_type": "stream",
     "text": [
      "C:\\Users\\Luthfy\\AppData\\Local\\Temp\\ipykernel_18004\\2479586054.py:1: FutureWarning: DataFrame.replace without 'value' and with non-dict-like 'to_replace' is deprecated and will raise in a future version. Explicitly specify the new values instead.\n",
      "  pd.get_dummies(aurel[['fc']]).replace(True)\n"
     ]
    },
    {
     "data": {
      "text/html": [
       "<div>\n",
       "<style scoped>\n",
       "    .dataframe tbody tr th:only-of-type {\n",
       "        vertical-align: middle;\n",
       "    }\n",
       "\n",
       "    .dataframe tbody tr th {\n",
       "        vertical-align: top;\n",
       "    }\n",
       "\n",
       "    .dataframe thead th {\n",
       "        text-align: right;\n",
       "    }\n",
       "</style>\n",
       "<table border=\"1\" class=\"dataframe\">\n",
       "  <thead>\n",
       "    <tr style=\"text-align: right;\">\n",
       "      <th></th>\n",
       "      <th>fc</th>\n",
       "    </tr>\n",
       "  </thead>\n",
       "  <tbody>\n",
       "    <tr>\n",
       "      <th>0</th>\n",
       "      <td>False</td>\n",
       "    </tr>\n",
       "    <tr>\n",
       "      <th>1</th>\n",
       "      <td>False</td>\n",
       "    </tr>\n",
       "    <tr>\n",
       "      <th>2</th>\n",
       "      <td>False</td>\n",
       "    </tr>\n",
       "    <tr>\n",
       "      <th>3</th>\n",
       "      <td>False</td>\n",
       "    </tr>\n",
       "    <tr>\n",
       "      <th>4</th>\n",
       "      <td>False</td>\n",
       "    </tr>\n",
       "    <tr>\n",
       "      <th>...</th>\n",
       "      <td>...</td>\n",
       "    </tr>\n",
       "    <tr>\n",
       "      <th>68688</th>\n",
       "      <td>False</td>\n",
       "    </tr>\n",
       "    <tr>\n",
       "      <th>68689</th>\n",
       "      <td>False</td>\n",
       "    </tr>\n",
       "    <tr>\n",
       "      <th>68690</th>\n",
       "      <td>False</td>\n",
       "    </tr>\n",
       "    <tr>\n",
       "      <th>68691</th>\n",
       "      <td>False</td>\n",
       "    </tr>\n",
       "    <tr>\n",
       "      <th>68692</th>\n",
       "      <td>False</td>\n",
       "    </tr>\n",
       "  </tbody>\n",
       "</table>\n",
       "<p>68692 rows × 1 columns</p>\n",
       "</div>"
      ],
      "text/plain": [
       "          fc\n",
       "0      False\n",
       "1      False\n",
       "2      False\n",
       "3      False\n",
       "4      False\n",
       "...      ...\n",
       "68688  False\n",
       "68689  False\n",
       "68690  False\n",
       "68691  False\n",
       "68692  False\n",
       "\n",
       "[68692 rows x 1 columns]"
      ]
     },
     "execution_count": 46,
     "metadata": {},
     "output_type": "execute_result"
    }
   ],
   "source": [
    "pd.get_dummies(aurel[['fc']]).replace(True)"
   ]
  },
  {
   "cell_type": "code",
   "execution_count": 47,
   "id": "e8649e86-ed89-4794-91e9-172c78ace932",
   "metadata": {},
   "outputs": [
    {
     "data": {
      "text/html": [
       "<div>\n",
       "<style scoped>\n",
       "    .dataframe tbody tr th:only-of-type {\n",
       "        vertical-align: middle;\n",
       "    }\n",
       "\n",
       "    .dataframe tbody tr th {\n",
       "        vertical-align: top;\n",
       "    }\n",
       "\n",
       "    .dataframe thead th {\n",
       "        text-align: right;\n",
       "    }\n",
       "</style>\n",
       "<table border=\"1\" class=\"dataframe\">\n",
       "  <thead>\n",
       "    <tr style=\"text-align: right;\">\n",
       "      <th></th>\n",
       "      <th>om</th>\n",
       "      <th>yr</th>\n",
       "      <th>mo</th>\n",
       "      <th>dy</th>\n",
       "      <th>date</th>\n",
       "      <th>time</th>\n",
       "      <th>tz</th>\n",
       "      <th>datetime_utc</th>\n",
       "      <th>st</th>\n",
       "      <th>stf</th>\n",
       "      <th>...</th>\n",
       "      <th>wid</th>\n",
       "      <th>ns</th>\n",
       "      <th>sn</th>\n",
       "      <th>f1</th>\n",
       "      <th>f2</th>\n",
       "      <th>f3</th>\n",
       "      <th>f4</th>\n",
       "      <th>fc</th>\n",
       "      <th>Yes</th>\n",
       "      <th>No</th>\n",
       "    </tr>\n",
       "  </thead>\n",
       "  <tbody>\n",
       "    <tr>\n",
       "      <th>0</th>\n",
       "      <td>192</td>\n",
       "      <td>1950</td>\n",
       "      <td>10</td>\n",
       "      <td>1</td>\n",
       "      <td>1950-10-01</td>\n",
       "      <td>21:00:00</td>\n",
       "      <td>America/Chicago</td>\n",
       "      <td>1950-10-02T03:00:00Z</td>\n",
       "      <td>OK</td>\n",
       "      <td>40</td>\n",
       "      <td>...</td>\n",
       "      <td>10.0</td>\n",
       "      <td>1</td>\n",
       "      <td>1</td>\n",
       "      <td>25</td>\n",
       "      <td>0</td>\n",
       "      <td>0</td>\n",
       "      <td>0</td>\n",
       "      <td>False</td>\n",
       "      <td>0.0</td>\n",
       "      <td>1.0</td>\n",
       "    </tr>\n",
       "    <tr>\n",
       "      <th>1</th>\n",
       "      <td>193</td>\n",
       "      <td>1950</td>\n",
       "      <td>10</td>\n",
       "      <td>9</td>\n",
       "      <td>1950-10-09</td>\n",
       "      <td>02:15:00</td>\n",
       "      <td>America/Chicago</td>\n",
       "      <td>1950-10-09T08:15:00Z</td>\n",
       "      <td>NC</td>\n",
       "      <td>37</td>\n",
       "      <td>...</td>\n",
       "      <td>880.0</td>\n",
       "      <td>1</td>\n",
       "      <td>1</td>\n",
       "      <td>47</td>\n",
       "      <td>0</td>\n",
       "      <td>0</td>\n",
       "      <td>0</td>\n",
       "      <td>False</td>\n",
       "      <td>0.0</td>\n",
       "      <td>1.0</td>\n",
       "    </tr>\n",
       "    <tr>\n",
       "      <th>2</th>\n",
       "      <td>195</td>\n",
       "      <td>1950</td>\n",
       "      <td>11</td>\n",
       "      <td>20</td>\n",
       "      <td>1950-11-20</td>\n",
       "      <td>02:20:00</td>\n",
       "      <td>America/Chicago</td>\n",
       "      <td>1950-11-20T08:20:00Z</td>\n",
       "      <td>KY</td>\n",
       "      <td>21</td>\n",
       "      <td>...</td>\n",
       "      <td>10.0</td>\n",
       "      <td>1</td>\n",
       "      <td>1</td>\n",
       "      <td>177</td>\n",
       "      <td>0</td>\n",
       "      <td>0</td>\n",
       "      <td>0</td>\n",
       "      <td>False</td>\n",
       "      <td>0.0</td>\n",
       "      <td>1.0</td>\n",
       "    </tr>\n",
       "    <tr>\n",
       "      <th>3</th>\n",
       "      <td>196</td>\n",
       "      <td>1950</td>\n",
       "      <td>11</td>\n",
       "      <td>20</td>\n",
       "      <td>1950-11-20</td>\n",
       "      <td>04:00:00</td>\n",
       "      <td>America/Chicago</td>\n",
       "      <td>1950-11-20T10:00:00Z</td>\n",
       "      <td>KY</td>\n",
       "      <td>21</td>\n",
       "      <td>...</td>\n",
       "      <td>10.0</td>\n",
       "      <td>1</td>\n",
       "      <td>1</td>\n",
       "      <td>209</td>\n",
       "      <td>0</td>\n",
       "      <td>0</td>\n",
       "      <td>0</td>\n",
       "      <td>False</td>\n",
       "      <td>0.0</td>\n",
       "      <td>1.0</td>\n",
       "    </tr>\n",
       "    <tr>\n",
       "      <th>4</th>\n",
       "      <td>197</td>\n",
       "      <td>1950</td>\n",
       "      <td>11</td>\n",
       "      <td>20</td>\n",
       "      <td>1950-11-20</td>\n",
       "      <td>07:30:00</td>\n",
       "      <td>America/Chicago</td>\n",
       "      <td>1950-11-20T13:30:00Z</td>\n",
       "      <td>MS</td>\n",
       "      <td>28</td>\n",
       "      <td>...</td>\n",
       "      <td>37.0</td>\n",
       "      <td>1</td>\n",
       "      <td>1</td>\n",
       "      <td>101</td>\n",
       "      <td>0</td>\n",
       "      <td>0</td>\n",
       "      <td>0</td>\n",
       "      <td>False</td>\n",
       "      <td>0.0</td>\n",
       "      <td>1.0</td>\n",
       "    </tr>\n",
       "  </tbody>\n",
       "</table>\n",
       "<p>5 rows × 29 columns</p>\n",
       "</div>"
      ],
      "text/plain": [
       "    om    yr  mo  dy        date      time               tz  \\\n",
       "0  192  1950  10   1  1950-10-01  21:00:00  America/Chicago   \n",
       "1  193  1950  10   9  1950-10-09  02:15:00  America/Chicago   \n",
       "2  195  1950  11  20  1950-11-20  02:20:00  America/Chicago   \n",
       "3  196  1950  11  20  1950-11-20  04:00:00  America/Chicago   \n",
       "4  197  1950  11  20  1950-11-20  07:30:00  America/Chicago   \n",
       "\n",
       "           datetime_utc  st  stf  ...    wid  ns  sn   f1  f2  f3  f4     fc  \\\n",
       "0  1950-10-02T03:00:00Z  OK   40  ...   10.0   1   1   25   0   0   0  False   \n",
       "1  1950-10-09T08:15:00Z  NC   37  ...  880.0   1   1   47   0   0   0  False   \n",
       "2  1950-11-20T08:20:00Z  KY   21  ...   10.0   1   1  177   0   0   0  False   \n",
       "3  1950-11-20T10:00:00Z  KY   21  ...   10.0   1   1  209   0   0   0  False   \n",
       "4  1950-11-20T13:30:00Z  MS   28  ...   37.0   1   1  101   0   0   0  False   \n",
       "\n",
       "   Yes   No  \n",
       "0  0.0  1.0  \n",
       "1  0.0  1.0  \n",
       "2  0.0  1.0  \n",
       "3  0.0  1.0  \n",
       "4  0.0  1.0  \n",
       "\n",
       "[5 rows x 29 columns]"
      ]
     },
     "execution_count": 47,
     "metadata": {},
     "output_type": "execute_result"
    }
   ],
   "source": [
    "aurel.head()"
   ]
  }
 ],
 "metadata": {
  "kernelspec": {
   "display_name": "Python 3 (ipykernel)",
   "language": "python",
   "name": "python3"
  },
  "language_info": {
   "codemirror_mode": {
    "name": "ipython",
    "version": 3
   },
   "file_extension": ".py",
   "mimetype": "text/x-python",
   "name": "python",
   "nbconvert_exporter": "python",
   "pygments_lexer": "ipython3",
   "version": "3.10.7"
  }
 },
 "nbformat": 4,
 "nbformat_minor": 5
}
