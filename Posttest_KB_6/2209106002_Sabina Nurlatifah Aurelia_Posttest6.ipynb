{
 "cells": [
  {
   "cell_type": "markdown",
   "id": "e9c7b9d9-51a3-4fab-9f37-f75052c55890",
   "metadata": {},
   "source": [
    "#### Nama: Sabina Nurlatifah Aurelia\n",
    "#### NIM : 2209106002\n",
    "#### Kelas : Informatika A1 2022"
   ]
  },
  {
   "cell_type": "markdown",
   "id": "6a34e541-d794-4ea0-97c6-4aa70c0be42c",
   "metadata": {},
   "source": [
    "#### POSTTEST 6"
   ]
  },
  {
   "cell_type": "markdown",
   "id": "21f1ce47",
   "metadata": {},
   "source": [
    "Link data set: https://www.kaggle.com/datasets/sujaykapadnis/tornados/data"
   ]
  },
  {
   "cell_type": "markdown",
   "id": "af524d6f-4ebb-447f-9ce8-14482527da12",
   "metadata": {},
   "source": [
    "import library yang digunakan"
   ]
  },
  {
   "cell_type": "code",
   "execution_count": 1,
   "id": "25041108-da83-4899-8802-8ff85760f075",
   "metadata": {},
   "outputs": [],
   "source": [
    "import pandas as pd\n",
    "import matplotlib.pyplot as plt\n",
    "import seaborn as sns\n",
    "import numpy as np\n",
    "import tensorflow as tf\n",
    "from sklearn.preprocessing import MinMaxScaler\n",
    "from sklearn.preprocessing import LabelEncoder\n",
    "from sklearn.model_selection import train_test_split\n",
    "from keras.callbacks import EarlyStopping\n",
    "from sklearn.metrics import classification_report"
   ]
  },
  {
   "cell_type": "markdown",
   "id": "c8b5a90c-9f21-400c-bc26-18798ded6442",
   "metadata": {},
   "source": [
    "import database dan tampilkan 5 data teratas"
   ]
  },
  {
   "cell_type": "code",
   "execution_count": 2,
   "id": "86c567ea-ab50-4091-954f-f1435885287c",
   "metadata": {},
   "outputs": [
    {
     "data": {
      "text/html": [
       "<div>\n",
       "<style scoped>\n",
       "    .dataframe tbody tr th:only-of-type {\n",
       "        vertical-align: middle;\n",
       "    }\n",
       "\n",
       "    .dataframe tbody tr th {\n",
       "        vertical-align: top;\n",
       "    }\n",
       "\n",
       "    .dataframe thead th {\n",
       "        text-align: right;\n",
       "    }\n",
       "</style>\n",
       "<table border=\"1\" class=\"dataframe\">\n",
       "  <thead>\n",
       "    <tr style=\"text-align: right;\">\n",
       "      <th></th>\n",
       "      <th>om</th>\n",
       "      <th>yr</th>\n",
       "      <th>mo</th>\n",
       "      <th>dy</th>\n",
       "      <th>date</th>\n",
       "      <th>time</th>\n",
       "      <th>tz</th>\n",
       "      <th>datetime_utc</th>\n",
       "      <th>st</th>\n",
       "      <th>stf</th>\n",
       "      <th>...</th>\n",
       "      <th>elon</th>\n",
       "      <th>len</th>\n",
       "      <th>wid</th>\n",
       "      <th>ns</th>\n",
       "      <th>sn</th>\n",
       "      <th>f1</th>\n",
       "      <th>f2</th>\n",
       "      <th>f3</th>\n",
       "      <th>f4</th>\n",
       "      <th>fc</th>\n",
       "    </tr>\n",
       "  </thead>\n",
       "  <tbody>\n",
       "    <tr>\n",
       "      <th>0</th>\n",
       "      <td>192</td>\n",
       "      <td>1950</td>\n",
       "      <td>10</td>\n",
       "      <td>1</td>\n",
       "      <td>1950-10-01</td>\n",
       "      <td>21:00:00</td>\n",
       "      <td>America/Chicago</td>\n",
       "      <td>1950-10-02T03:00:00Z</td>\n",
       "      <td>OK</td>\n",
       "      <td>40</td>\n",
       "      <td>...</td>\n",
       "      <td>-102.3</td>\n",
       "      <td>15.8</td>\n",
       "      <td>10</td>\n",
       "      <td>1</td>\n",
       "      <td>1</td>\n",
       "      <td>25</td>\n",
       "      <td>0</td>\n",
       "      <td>0</td>\n",
       "      <td>0</td>\n",
       "      <td>False</td>\n",
       "    </tr>\n",
       "    <tr>\n",
       "      <th>1</th>\n",
       "      <td>193</td>\n",
       "      <td>1950</td>\n",
       "      <td>10</td>\n",
       "      <td>9</td>\n",
       "      <td>1950-10-09</td>\n",
       "      <td>02:15:00</td>\n",
       "      <td>America/Chicago</td>\n",
       "      <td>1950-10-09T08:15:00Z</td>\n",
       "      <td>NC</td>\n",
       "      <td>37</td>\n",
       "      <td>...</td>\n",
       "      <td>0.0</td>\n",
       "      <td>2.0</td>\n",
       "      <td>880</td>\n",
       "      <td>1</td>\n",
       "      <td>1</td>\n",
       "      <td>47</td>\n",
       "      <td>0</td>\n",
       "      <td>0</td>\n",
       "      <td>0</td>\n",
       "      <td>False</td>\n",
       "    </tr>\n",
       "    <tr>\n",
       "      <th>2</th>\n",
       "      <td>195</td>\n",
       "      <td>1950</td>\n",
       "      <td>11</td>\n",
       "      <td>20</td>\n",
       "      <td>1950-11-20</td>\n",
       "      <td>02:20:00</td>\n",
       "      <td>America/Chicago</td>\n",
       "      <td>1950-11-20T08:20:00Z</td>\n",
       "      <td>KY</td>\n",
       "      <td>21</td>\n",
       "      <td>...</td>\n",
       "      <td>0.0</td>\n",
       "      <td>0.1</td>\n",
       "      <td>10</td>\n",
       "      <td>1</td>\n",
       "      <td>1</td>\n",
       "      <td>177</td>\n",
       "      <td>0</td>\n",
       "      <td>0</td>\n",
       "      <td>0</td>\n",
       "      <td>False</td>\n",
       "    </tr>\n",
       "    <tr>\n",
       "      <th>3</th>\n",
       "      <td>196</td>\n",
       "      <td>1950</td>\n",
       "      <td>11</td>\n",
       "      <td>20</td>\n",
       "      <td>1950-11-20</td>\n",
       "      <td>04:00:00</td>\n",
       "      <td>America/Chicago</td>\n",
       "      <td>1950-11-20T10:00:00Z</td>\n",
       "      <td>KY</td>\n",
       "      <td>21</td>\n",
       "      <td>...</td>\n",
       "      <td>0.0</td>\n",
       "      <td>0.1</td>\n",
       "      <td>10</td>\n",
       "      <td>1</td>\n",
       "      <td>1</td>\n",
       "      <td>209</td>\n",
       "      <td>0</td>\n",
       "      <td>0</td>\n",
       "      <td>0</td>\n",
       "      <td>False</td>\n",
       "    </tr>\n",
       "    <tr>\n",
       "      <th>4</th>\n",
       "      <td>197</td>\n",
       "      <td>1950</td>\n",
       "      <td>11</td>\n",
       "      <td>20</td>\n",
       "      <td>1950-11-20</td>\n",
       "      <td>07:30:00</td>\n",
       "      <td>America/Chicago</td>\n",
       "      <td>1950-11-20T13:30:00Z</td>\n",
       "      <td>MS</td>\n",
       "      <td>28</td>\n",
       "      <td>...</td>\n",
       "      <td>0.0</td>\n",
       "      <td>2.0</td>\n",
       "      <td>37</td>\n",
       "      <td>1</td>\n",
       "      <td>1</td>\n",
       "      <td>101</td>\n",
       "      <td>0</td>\n",
       "      <td>0</td>\n",
       "      <td>0</td>\n",
       "      <td>False</td>\n",
       "    </tr>\n",
       "  </tbody>\n",
       "</table>\n",
       "<p>5 rows × 27 columns</p>\n",
       "</div>"
      ],
      "text/plain": [
       "    om    yr  mo  dy        date      time               tz  \\\n",
       "0  192  1950  10   1  1950-10-01  21:00:00  America/Chicago   \n",
       "1  193  1950  10   9  1950-10-09  02:15:00  America/Chicago   \n",
       "2  195  1950  11  20  1950-11-20  02:20:00  America/Chicago   \n",
       "3  196  1950  11  20  1950-11-20  04:00:00  America/Chicago   \n",
       "4  197  1950  11  20  1950-11-20  07:30:00  America/Chicago   \n",
       "\n",
       "           datetime_utc  st  stf  ...   elon   len  wid  ns  sn   f1  f2  f3  \\\n",
       "0  1950-10-02T03:00:00Z  OK   40  ... -102.3  15.8   10   1   1   25   0   0   \n",
       "1  1950-10-09T08:15:00Z  NC   37  ...    0.0   2.0  880   1   1   47   0   0   \n",
       "2  1950-11-20T08:20:00Z  KY   21  ...    0.0   0.1   10   1   1  177   0   0   \n",
       "3  1950-11-20T10:00:00Z  KY   21  ...    0.0   0.1   10   1   1  209   0   0   \n",
       "4  1950-11-20T13:30:00Z  MS   28  ...    0.0   2.0   37   1   1  101   0   0   \n",
       "\n",
       "   f4     fc  \n",
       "0   0  False  \n",
       "1   0  False  \n",
       "2   0  False  \n",
       "3   0  False  \n",
       "4   0  False  \n",
       "\n",
       "[5 rows x 27 columns]"
      ]
     },
     "execution_count": 2,
     "metadata": {},
     "output_type": "execute_result"
    }
   ],
   "source": [
    "aurel = pd.read_csv('tornados.csv')\n",
    "aurel.head()"
   ]
  },
  {
   "cell_type": "markdown",
   "id": "79731cda-c51b-476b-9a42-c14d2fd03536",
   "metadata": {},
   "source": [
    "menampilkan informasi data"
   ]
  },
  {
   "cell_type": "code",
   "execution_count": 3,
   "id": "853d71bd-30ab-4071-b521-8baf3bb4d034",
   "metadata": {},
   "outputs": [
    {
     "name": "stdout",
     "output_type": "stream",
     "text": [
      "<class 'pandas.core.frame.DataFrame'>\n",
      "RangeIndex: 68693 entries, 0 to 68692\n",
      "Data columns (total 27 columns):\n",
      " #   Column        Non-Null Count  Dtype  \n",
      "---  ------        --------------  -----  \n",
      " 0   om            68693 non-null  int64  \n",
      " 1   yr            68693 non-null  int64  \n",
      " 2   mo            68693 non-null  int64  \n",
      " 3   dy            68693 non-null  int64  \n",
      " 4   date          68693 non-null  object \n",
      " 5   time          68693 non-null  object \n",
      " 6   tz            68693 non-null  object \n",
      " 7   datetime_utc  68693 non-null  object \n",
      " 8   st            68693 non-null  object \n",
      " 9   stf           68693 non-null  int64  \n",
      " 10  mag           67937 non-null  float64\n",
      " 11  inj           68693 non-null  int64  \n",
      " 12  fat           68693 non-null  int64  \n",
      " 13  loss          41523 non-null  float64\n",
      " 14  slat          68693 non-null  float64\n",
      " 15  slon          68693 non-null  float64\n",
      " 16  elat          68693 non-null  float64\n",
      " 17  elon          68693 non-null  float64\n",
      " 18  len           68693 non-null  float64\n",
      " 19  wid           68693 non-null  int64  \n",
      " 20  ns            68693 non-null  int64  \n",
      " 21  sn            68693 non-null  int64  \n",
      " 22  f1            68693 non-null  int64  \n",
      " 23  f2            68693 non-null  int64  \n",
      " 24  f3            68693 non-null  int64  \n",
      " 25  f4            68693 non-null  int64  \n",
      " 26  fc            68693 non-null  bool   \n",
      "dtypes: bool(1), float64(7), int64(14), object(5)\n",
      "memory usage: 13.7+ MB\n"
     ]
    }
   ],
   "source": [
    "aurel.info()"
   ]
  },
  {
   "cell_type": "markdown",
   "id": "daf915da-091a-472b-a4ca-d0c3885438e3",
   "metadata": {},
   "source": [
    "cek apakah ada nilai null"
   ]
  },
  {
   "cell_type": "code",
   "execution_count": 4,
   "id": "e2d494b1-20f9-4c15-bd80-be10f231767e",
   "metadata": {},
   "outputs": [
    {
     "data": {
      "text/plain": [
       "om                  0\n",
       "yr                  0\n",
       "mo                  0\n",
       "dy                  0\n",
       "date                0\n",
       "time                0\n",
       "tz                  0\n",
       "datetime_utc        0\n",
       "st                  0\n",
       "stf                 0\n",
       "mag               756\n",
       "inj                 0\n",
       "fat                 0\n",
       "loss            27170\n",
       "slat                0\n",
       "slon                0\n",
       "elat                0\n",
       "elon                0\n",
       "len                 0\n",
       "wid                 0\n",
       "ns                  0\n",
       "sn                  0\n",
       "f1                  0\n",
       "f2                  0\n",
       "f3                  0\n",
       "f4                  0\n",
       "fc                  0\n",
       "dtype: int64"
      ]
     },
     "execution_count": 4,
     "metadata": {},
     "output_type": "execute_result"
    }
   ],
   "source": [
    "aurel.isna().sum()"
   ]
  },
  {
   "cell_type": "markdown",
   "id": "92f29978-3b83-45aa-90b7-f300723f373a",
   "metadata": {},
   "source": [
    "mengganti nilai mag menggunakan modus"
   ]
  },
  {
   "cell_type": "code",
   "execution_count": 5,
   "id": "9affb353-7e07-4cbb-ba82-9d689321019c",
   "metadata": {},
   "outputs": [
    {
     "data": {
      "text/plain": [
       "om                  0\n",
       "yr                  0\n",
       "mo                  0\n",
       "dy                  0\n",
       "date                0\n",
       "time                0\n",
       "tz                  0\n",
       "datetime_utc        0\n",
       "st                  0\n",
       "stf                 0\n",
       "mag                 0\n",
       "inj                 0\n",
       "fat                 0\n",
       "loss            27170\n",
       "slat                0\n",
       "slon                0\n",
       "elat                0\n",
       "elon                0\n",
       "len                 0\n",
       "wid                 0\n",
       "ns                  0\n",
       "sn                  0\n",
       "f1                  0\n",
       "f2                  0\n",
       "f3                  0\n",
       "f4                  0\n",
       "fc                  0\n",
       "dtype: int64"
      ]
     },
     "execution_count": 5,
     "metadata": {},
     "output_type": "execute_result"
    }
   ],
   "source": [
    "modus = aurel['mag'].mode()[0]\n",
    "aurel['mag'].fillna(modus, inplace= True)\n",
    "aurel.isna().sum()"
   ]
  },
  {
   "cell_type": "markdown",
   "id": "1682e426-ee4d-4b40-8829-a983bab6e749",
   "metadata": {},
   "source": [
    "mengganti nilai loss menggunakan modus"
   ]
  },
  {
   "cell_type": "code",
   "execution_count": 6,
   "id": "2a77456c-f9ad-4674-9e68-48b6254cfeb8",
   "metadata": {},
   "outputs": [
    {
     "data": {
      "text/plain": [
       "om              0\n",
       "yr              0\n",
       "mo              0\n",
       "dy              0\n",
       "date            0\n",
       "time            0\n",
       "tz              0\n",
       "datetime_utc    0\n",
       "st              0\n",
       "stf             0\n",
       "mag             0\n",
       "inj             0\n",
       "fat             0\n",
       "loss            0\n",
       "slat            0\n",
       "slon            0\n",
       "elat            0\n",
       "elon            0\n",
       "len             0\n",
       "wid             0\n",
       "ns              0\n",
       "sn              0\n",
       "f1              0\n",
       "f2              0\n",
       "f3              0\n",
       "f4              0\n",
       "fc              0\n",
       "dtype: int64"
      ]
     },
     "execution_count": 6,
     "metadata": {},
     "output_type": "execute_result"
    }
   ],
   "source": [
    "modus = aurel['loss'].mode()[0]\n",
    "aurel['loss'].fillna(modus, inplace= True)\n",
    "aurel.isna().sum()"
   ]
  },
  {
   "cell_type": "markdown",
   "id": "b7a13958-bbcf-4224-a13f-1224d2e9eafd",
   "metadata": {},
   "source": [
    "mengecek nilai duplikat"
   ]
  },
  {
   "cell_type": "code",
   "execution_count": 7,
   "id": "f654de62-aeb3-4555-aae8-17a5abbe4c3b",
   "metadata": {},
   "outputs": [
    {
     "data": {
      "text/plain": [
       "0        False\n",
       "1        False\n",
       "2        False\n",
       "3        False\n",
       "4        False\n",
       "         ...  \n",
       "68688    False\n",
       "68689    False\n",
       "68690    False\n",
       "68691    False\n",
       "68692    False\n",
       "Length: 68693, dtype: bool"
      ]
     },
     "execution_count": 7,
     "metadata": {},
     "output_type": "execute_result"
    }
   ],
   "source": [
    "aurel.duplicated()"
   ]
  },
  {
   "cell_type": "markdown",
   "id": "55d4bda3-a912-427b-a622-15af0530c95f",
   "metadata": {},
   "source": [
    "##### Normalisasi Data"
   ]
  },
  {
   "cell_type": "code",
   "execution_count": 9,
   "id": "827775ae-9941-4030-9478-7426733c83b7",
   "metadata": {},
   "outputs": [],
   "source": [
    "min_max_scaler = MinMaxScaler()\n",
    "aurel[['len','wid']] = min_max_scaler.fit_transform(aurel[['len','wid']])"
   ]
  },
  {
   "cell_type": "markdown",
   "id": "fe5f1845-0d00-4d36-8c9a-a2f11951ae4f",
   "metadata": {},
   "source": [
    "mengubah data kategorikal menjadi numerikal"
   ]
  },
  {
   "cell_type": "code",
   "execution_count": 10,
   "id": "ed09b7b6-18d9-4569-afff-98c0e2654a01",
   "metadata": {},
   "outputs": [],
   "source": [
    "label_encoder = LabelEncoder()"
   ]
  },
  {
   "cell_type": "markdown",
   "id": "623e21a7-6e28-4dd6-a537-ad597c34f19b",
   "metadata": {},
   "source": [
    "mengencode kolom dengan tipe data 'object' menjadi bilangan bulat (integer) menggunakan LabelEncoder. "
   ]
  },
  {
   "cell_type": "code",
   "execution_count": 11,
   "id": "0e4d58a9-bbcb-4f56-b0a1-d8a7b11aa491",
   "metadata": {},
   "outputs": [],
   "source": [
    "for column in aurel.columns:\n",
    "    if aurel[column].dtype == 'object':\n",
    "        aurel[column] = label_encoder.fit_transform(aurel[column])"
   ]
  },
  {
   "cell_type": "code",
   "execution_count": 12,
   "id": "6b7e65c5-13c2-482d-a196-55c484b2e2a8",
   "metadata": {},
   "outputs": [
    {
     "data": {
      "text/html": [
       "<div>\n",
       "<style scoped>\n",
       "    .dataframe tbody tr th:only-of-type {\n",
       "        vertical-align: middle;\n",
       "    }\n",
       "\n",
       "    .dataframe tbody tr th {\n",
       "        vertical-align: top;\n",
       "    }\n",
       "\n",
       "    .dataframe thead th {\n",
       "        text-align: right;\n",
       "    }\n",
       "</style>\n",
       "<table border=\"1\" class=\"dataframe\">\n",
       "  <thead>\n",
       "    <tr style=\"text-align: right;\">\n",
       "      <th></th>\n",
       "      <th>om</th>\n",
       "      <th>yr</th>\n",
       "      <th>mo</th>\n",
       "      <th>dy</th>\n",
       "      <th>date</th>\n",
       "      <th>time</th>\n",
       "      <th>tz</th>\n",
       "      <th>datetime_utc</th>\n",
       "      <th>st</th>\n",
       "      <th>stf</th>\n",
       "      <th>...</th>\n",
       "      <th>elon</th>\n",
       "      <th>len</th>\n",
       "      <th>wid</th>\n",
       "      <th>ns</th>\n",
       "      <th>sn</th>\n",
       "      <th>f1</th>\n",
       "      <th>f2</th>\n",
       "      <th>f3</th>\n",
       "      <th>f4</th>\n",
       "      <th>fc</th>\n",
       "    </tr>\n",
       "  </thead>\n",
       "  <tbody>\n",
       "    <tr>\n",
       "      <th>0</th>\n",
       "      <td>192</td>\n",
       "      <td>1950</td>\n",
       "      <td>10</td>\n",
       "      <td>1</td>\n",
       "      <td>86</td>\n",
       "      <td>1258</td>\n",
       "      <td>0</td>\n",
       "      <td>175</td>\n",
       "      <td>36</td>\n",
       "      <td>40</td>\n",
       "      <td>...</td>\n",
       "      <td>-102.3</td>\n",
       "      <td>0.067320</td>\n",
       "      <td>0.002185</td>\n",
       "      <td>1</td>\n",
       "      <td>1</td>\n",
       "      <td>25</td>\n",
       "      <td>0</td>\n",
       "      <td>0</td>\n",
       "      <td>0</td>\n",
       "      <td>False</td>\n",
       "    </tr>\n",
       "    <tr>\n",
       "      <th>1</th>\n",
       "      <td>193</td>\n",
       "      <td>1950</td>\n",
       "      <td>10</td>\n",
       "      <td>9</td>\n",
       "      <td>87</td>\n",
       "      <td>135</td>\n",
       "      <td>0</td>\n",
       "      <td>176</td>\n",
       "      <td>27</td>\n",
       "      <td>37</td>\n",
       "      <td>...</td>\n",
       "      <td>0.0</td>\n",
       "      <td>0.008522</td>\n",
       "      <td>0.192308</td>\n",
       "      <td>1</td>\n",
       "      <td>1</td>\n",
       "      <td>47</td>\n",
       "      <td>0</td>\n",
       "      <td>0</td>\n",
       "      <td>0</td>\n",
       "      <td>False</td>\n",
       "    </tr>\n",
       "    <tr>\n",
       "      <th>2</th>\n",
       "      <td>195</td>\n",
       "      <td>1950</td>\n",
       "      <td>11</td>\n",
       "      <td>20</td>\n",
       "      <td>89</td>\n",
       "      <td>140</td>\n",
       "      <td>0</td>\n",
       "      <td>178</td>\n",
       "      <td>17</td>\n",
       "      <td>21</td>\n",
       "      <td>...</td>\n",
       "      <td>0.0</td>\n",
       "      <td>0.000426</td>\n",
       "      <td>0.002185</td>\n",
       "      <td>1</td>\n",
       "      <td>1</td>\n",
       "      <td>177</td>\n",
       "      <td>0</td>\n",
       "      <td>0</td>\n",
       "      <td>0</td>\n",
       "      <td>False</td>\n",
       "    </tr>\n",
       "    <tr>\n",
       "      <th>3</th>\n",
       "      <td>196</td>\n",
       "      <td>1950</td>\n",
       "      <td>11</td>\n",
       "      <td>20</td>\n",
       "      <td>89</td>\n",
       "      <td>240</td>\n",
       "      <td>0</td>\n",
       "      <td>179</td>\n",
       "      <td>17</td>\n",
       "      <td>21</td>\n",
       "      <td>...</td>\n",
       "      <td>0.0</td>\n",
       "      <td>0.000426</td>\n",
       "      <td>0.002185</td>\n",
       "      <td>1</td>\n",
       "      <td>1</td>\n",
       "      <td>209</td>\n",
       "      <td>0</td>\n",
       "      <td>0</td>\n",
       "      <td>0</td>\n",
       "      <td>False</td>\n",
       "    </tr>\n",
       "    <tr>\n",
       "      <th>4</th>\n",
       "      <td>197</td>\n",
       "      <td>1950</td>\n",
       "      <td>11</td>\n",
       "      <td>20</td>\n",
       "      <td>89</td>\n",
       "      <td>449</td>\n",
       "      <td>0</td>\n",
       "      <td>180</td>\n",
       "      <td>25</td>\n",
       "      <td>28</td>\n",
       "      <td>...</td>\n",
       "      <td>0.0</td>\n",
       "      <td>0.008522</td>\n",
       "      <td>0.008086</td>\n",
       "      <td>1</td>\n",
       "      <td>1</td>\n",
       "      <td>101</td>\n",
       "      <td>0</td>\n",
       "      <td>0</td>\n",
       "      <td>0</td>\n",
       "      <td>False</td>\n",
       "    </tr>\n",
       "  </tbody>\n",
       "</table>\n",
       "<p>5 rows × 27 columns</p>\n",
       "</div>"
      ],
      "text/plain": [
       "    om    yr  mo  dy  date  time  tz  datetime_utc  st  stf  ...   elon  \\\n",
       "0  192  1950  10   1    86  1258   0           175  36   40  ... -102.3   \n",
       "1  193  1950  10   9    87   135   0           176  27   37  ...    0.0   \n",
       "2  195  1950  11  20    89   140   0           178  17   21  ...    0.0   \n",
       "3  196  1950  11  20    89   240   0           179  17   21  ...    0.0   \n",
       "4  197  1950  11  20    89   449   0           180  25   28  ...    0.0   \n",
       "\n",
       "        len       wid  ns  sn   f1  f2  f3  f4     fc  \n",
       "0  0.067320  0.002185   1   1   25   0   0   0  False  \n",
       "1  0.008522  0.192308   1   1   47   0   0   0  False  \n",
       "2  0.000426  0.002185   1   1  177   0   0   0  False  \n",
       "3  0.000426  0.002185   1   1  209   0   0   0  False  \n",
       "4  0.008522  0.008086   1   1  101   0   0   0  False  \n",
       "\n",
       "[5 rows x 27 columns]"
      ]
     },
     "execution_count": 12,
     "metadata": {},
     "output_type": "execute_result"
    }
   ],
   "source": [
    "aurel.head()"
   ]
  },
  {
   "cell_type": "markdown",
   "id": "c14950b4-edc9-47af-9152-872c86c3d07a",
   "metadata": {},
   "source": [
    "menghapus kolom fc (bool)"
   ]
  },
  {
   "cell_type": "code",
   "execution_count": 13,
   "id": "ca8067e2-5d8d-4e82-b93f-838af3485d07",
   "metadata": {},
   "outputs": [],
   "source": [
    "aurel = aurel.drop(['fc'], axis =1)"
   ]
  },
  {
   "cell_type": "code",
   "execution_count": 15,
   "id": "c6de40c1-cf87-400e-9360-ef3fee3a84e4",
   "metadata": {},
   "outputs": [
    {
     "data": {
      "text/html": [
       "<div>\n",
       "<style scoped>\n",
       "    .dataframe tbody tr th:only-of-type {\n",
       "        vertical-align: middle;\n",
       "    }\n",
       "\n",
       "    .dataframe tbody tr th {\n",
       "        vertical-align: top;\n",
       "    }\n",
       "\n",
       "    .dataframe thead th {\n",
       "        text-align: right;\n",
       "    }\n",
       "</style>\n",
       "<table border=\"1\" class=\"dataframe\">\n",
       "  <thead>\n",
       "    <tr style=\"text-align: right;\">\n",
       "      <th></th>\n",
       "      <th>om</th>\n",
       "      <th>yr</th>\n",
       "      <th>mo</th>\n",
       "      <th>dy</th>\n",
       "      <th>date</th>\n",
       "      <th>time</th>\n",
       "      <th>tz</th>\n",
       "      <th>datetime_utc</th>\n",
       "      <th>st</th>\n",
       "      <th>stf</th>\n",
       "      <th>...</th>\n",
       "      <th>elat</th>\n",
       "      <th>elon</th>\n",
       "      <th>len</th>\n",
       "      <th>wid</th>\n",
       "      <th>ns</th>\n",
       "      <th>sn</th>\n",
       "      <th>f1</th>\n",
       "      <th>f2</th>\n",
       "      <th>f3</th>\n",
       "      <th>f4</th>\n",
       "    </tr>\n",
       "  </thead>\n",
       "  <tbody>\n",
       "    <tr>\n",
       "      <th>0</th>\n",
       "      <td>192</td>\n",
       "      <td>1950</td>\n",
       "      <td>10</td>\n",
       "      <td>1</td>\n",
       "      <td>86</td>\n",
       "      <td>1258</td>\n",
       "      <td>0</td>\n",
       "      <td>175</td>\n",
       "      <td>36</td>\n",
       "      <td>40</td>\n",
       "      <td>...</td>\n",
       "      <td>36.88</td>\n",
       "      <td>-102.30</td>\n",
       "      <td>0.067320</td>\n",
       "      <td>0.002185</td>\n",
       "      <td>1</td>\n",
       "      <td>1</td>\n",
       "      <td>25</td>\n",
       "      <td>0</td>\n",
       "      <td>0</td>\n",
       "      <td>0</td>\n",
       "    </tr>\n",
       "    <tr>\n",
       "      <th>1</th>\n",
       "      <td>193</td>\n",
       "      <td>1950</td>\n",
       "      <td>10</td>\n",
       "      <td>9</td>\n",
       "      <td>87</td>\n",
       "      <td>135</td>\n",
       "      <td>0</td>\n",
       "      <td>176</td>\n",
       "      <td>27</td>\n",
       "      <td>37</td>\n",
       "      <td>...</td>\n",
       "      <td>0.00</td>\n",
       "      <td>0.00</td>\n",
       "      <td>0.008522</td>\n",
       "      <td>0.192308</td>\n",
       "      <td>1</td>\n",
       "      <td>1</td>\n",
       "      <td>47</td>\n",
       "      <td>0</td>\n",
       "      <td>0</td>\n",
       "      <td>0</td>\n",
       "    </tr>\n",
       "    <tr>\n",
       "      <th>2</th>\n",
       "      <td>195</td>\n",
       "      <td>1950</td>\n",
       "      <td>11</td>\n",
       "      <td>20</td>\n",
       "      <td>89</td>\n",
       "      <td>140</td>\n",
       "      <td>0</td>\n",
       "      <td>178</td>\n",
       "      <td>17</td>\n",
       "      <td>21</td>\n",
       "      <td>...</td>\n",
       "      <td>0.00</td>\n",
       "      <td>0.00</td>\n",
       "      <td>0.000426</td>\n",
       "      <td>0.002185</td>\n",
       "      <td>1</td>\n",
       "      <td>1</td>\n",
       "      <td>177</td>\n",
       "      <td>0</td>\n",
       "      <td>0</td>\n",
       "      <td>0</td>\n",
       "    </tr>\n",
       "    <tr>\n",
       "      <th>3</th>\n",
       "      <td>196</td>\n",
       "      <td>1950</td>\n",
       "      <td>11</td>\n",
       "      <td>20</td>\n",
       "      <td>89</td>\n",
       "      <td>240</td>\n",
       "      <td>0</td>\n",
       "      <td>179</td>\n",
       "      <td>17</td>\n",
       "      <td>21</td>\n",
       "      <td>...</td>\n",
       "      <td>0.00</td>\n",
       "      <td>0.00</td>\n",
       "      <td>0.000426</td>\n",
       "      <td>0.002185</td>\n",
       "      <td>1</td>\n",
       "      <td>1</td>\n",
       "      <td>209</td>\n",
       "      <td>0</td>\n",
       "      <td>0</td>\n",
       "      <td>0</td>\n",
       "    </tr>\n",
       "    <tr>\n",
       "      <th>4</th>\n",
       "      <td>197</td>\n",
       "      <td>1950</td>\n",
       "      <td>11</td>\n",
       "      <td>20</td>\n",
       "      <td>89</td>\n",
       "      <td>449</td>\n",
       "      <td>0</td>\n",
       "      <td>180</td>\n",
       "      <td>25</td>\n",
       "      <td>28</td>\n",
       "      <td>...</td>\n",
       "      <td>0.00</td>\n",
       "      <td>0.00</td>\n",
       "      <td>0.008522</td>\n",
       "      <td>0.008086</td>\n",
       "      <td>1</td>\n",
       "      <td>1</td>\n",
       "      <td>101</td>\n",
       "      <td>0</td>\n",
       "      <td>0</td>\n",
       "      <td>0</td>\n",
       "    </tr>\n",
       "    <tr>\n",
       "      <th>5</th>\n",
       "      <td>194</td>\n",
       "      <td>1950</td>\n",
       "      <td>11</td>\n",
       "      <td>4</td>\n",
       "      <td>88</td>\n",
       "      <td>1018</td>\n",
       "      <td>0</td>\n",
       "      <td>177</td>\n",
       "      <td>38</td>\n",
       "      <td>42</td>\n",
       "      <td>...</td>\n",
       "      <td>40.40</td>\n",
       "      <td>-75.93</td>\n",
       "      <td>0.067746</td>\n",
       "      <td>0.021853</td>\n",
       "      <td>1</td>\n",
       "      <td>1</td>\n",
       "      <td>71</td>\n",
       "      <td>11</td>\n",
       "      <td>0</td>\n",
       "      <td>0</td>\n",
       "    </tr>\n",
       "    <tr>\n",
       "      <th>6</th>\n",
       "      <td>198</td>\n",
       "      <td>1950</td>\n",
       "      <td>12</td>\n",
       "      <td>2</td>\n",
       "      <td>90</td>\n",
       "      <td>898</td>\n",
       "      <td>0</td>\n",
       "      <td>181</td>\n",
       "      <td>14</td>\n",
       "      <td>17</td>\n",
       "      <td>...</td>\n",
       "      <td>39.07</td>\n",
       "      <td>-89.72</td>\n",
       "      <td>0.080102</td>\n",
       "      <td>0.010927</td>\n",
       "      <td>1</td>\n",
       "      <td>1</td>\n",
       "      <td>119</td>\n",
       "      <td>117</td>\n",
       "      <td>0</td>\n",
       "      <td>0</td>\n",
       "    </tr>\n",
       "    <tr>\n",
       "      <th>7</th>\n",
       "      <td>199</td>\n",
       "      <td>1950</td>\n",
       "      <td>12</td>\n",
       "      <td>2</td>\n",
       "      <td>90</td>\n",
       "      <td>958</td>\n",
       "      <td>0</td>\n",
       "      <td>182</td>\n",
       "      <td>14</td>\n",
       "      <td>17</td>\n",
       "      <td>...</td>\n",
       "      <td>38.90</td>\n",
       "      <td>-89.38</td>\n",
       "      <td>0.076694</td>\n",
       "      <td>0.043706</td>\n",
       "      <td>1</td>\n",
       "      <td>1</td>\n",
       "      <td>119</td>\n",
       "      <td>5</td>\n",
       "      <td>0</td>\n",
       "      <td>0</td>\n",
       "    </tr>\n",
       "    <tr>\n",
       "      <th>8</th>\n",
       "      <td>200</td>\n",
       "      <td>1950</td>\n",
       "      <td>12</td>\n",
       "      <td>2</td>\n",
       "      <td>90</td>\n",
       "      <td>983</td>\n",
       "      <td>0</td>\n",
       "      <td>183</td>\n",
       "      <td>2</td>\n",
       "      <td>5</td>\n",
       "      <td>...</td>\n",
       "      <td>36.18</td>\n",
       "      <td>-91.72</td>\n",
       "      <td>0.033234</td>\n",
       "      <td>0.002185</td>\n",
       "      <td>1</td>\n",
       "      <td>1</td>\n",
       "      <td>65</td>\n",
       "      <td>0</td>\n",
       "      <td>0</td>\n",
       "      <td>0</td>\n",
       "    </tr>\n",
       "    <tr>\n",
       "      <th>9</th>\n",
       "      <td>201</td>\n",
       "      <td>1950</td>\n",
       "      <td>12</td>\n",
       "      <td>2</td>\n",
       "      <td>90</td>\n",
       "      <td>1048</td>\n",
       "      <td>0</td>\n",
       "      <td>184</td>\n",
       "      <td>14</td>\n",
       "      <td>17</td>\n",
       "      <td>...</td>\n",
       "      <td>38.22</td>\n",
       "      <td>-89.62</td>\n",
       "      <td>0.040903</td>\n",
       "      <td>0.010927</td>\n",
       "      <td>1</td>\n",
       "      <td>1</td>\n",
       "      <td>157</td>\n",
       "      <td>0</td>\n",
       "      <td>0</td>\n",
       "      <td>0</td>\n",
       "    </tr>\n",
       "  </tbody>\n",
       "</table>\n",
       "<p>10 rows × 26 columns</p>\n",
       "</div>"
      ],
      "text/plain": [
       "    om    yr  mo  dy  date  time  tz  datetime_utc  st  stf  ...   elat  \\\n",
       "0  192  1950  10   1    86  1258   0           175  36   40  ...  36.88   \n",
       "1  193  1950  10   9    87   135   0           176  27   37  ...   0.00   \n",
       "2  195  1950  11  20    89   140   0           178  17   21  ...   0.00   \n",
       "3  196  1950  11  20    89   240   0           179  17   21  ...   0.00   \n",
       "4  197  1950  11  20    89   449   0           180  25   28  ...   0.00   \n",
       "5  194  1950  11   4    88  1018   0           177  38   42  ...  40.40   \n",
       "6  198  1950  12   2    90   898   0           181  14   17  ...  39.07   \n",
       "7  199  1950  12   2    90   958   0           182  14   17  ...  38.90   \n",
       "8  200  1950  12   2    90   983   0           183   2    5  ...  36.18   \n",
       "9  201  1950  12   2    90  1048   0           184  14   17  ...  38.22   \n",
       "\n",
       "     elon       len       wid  ns  sn   f1   f2  f3  f4  \n",
       "0 -102.30  0.067320  0.002185   1   1   25    0   0   0  \n",
       "1    0.00  0.008522  0.192308   1   1   47    0   0   0  \n",
       "2    0.00  0.000426  0.002185   1   1  177    0   0   0  \n",
       "3    0.00  0.000426  0.002185   1   1  209    0   0   0  \n",
       "4    0.00  0.008522  0.008086   1   1  101    0   0   0  \n",
       "5  -75.93  0.067746  0.021853   1   1   71   11   0   0  \n",
       "6  -89.72  0.080102  0.010927   1   1  119  117   0   0  \n",
       "7  -89.38  0.076694  0.043706   1   1  119    5   0   0  \n",
       "8  -91.72  0.033234  0.002185   1   1   65    0   0   0  \n",
       "9  -89.62  0.040903  0.010927   1   1  157    0   0   0  \n",
       "\n",
       "[10 rows x 26 columns]"
      ]
     },
     "execution_count": 15,
     "metadata": {},
     "output_type": "execute_result"
    }
   ],
   "source": [
    "aurel.head(10)"
   ]
  },
  {
   "cell_type": "markdown",
   "id": "b2c5ffbe-af78-4037-8f57-bc15bf2ec254",
   "metadata": {},
   "source": [
    "##### Data Split Test"
   ]
  },
  {
   "cell_type": "code",
   "execution_count": 85,
   "id": "94a73e3c-023a-4676-b494-6e1af2167177",
   "metadata": {},
   "outputs": [],
   "source": [
    "X = aurel.drop ('tz', axis =1) #feature\n",
    "y = aurel['tz'] #target"
   ]
  },
  {
   "cell_type": "markdown",
   "id": "8ded671a-357b-45c8-bb80-3172a1c128f7",
   "metadata": {},
   "source": [
    "membagi data dengan proporsi training set dan test set 70:30"
   ]
  },
  {
   "cell_type": "code",
   "execution_count": 86,
   "id": "6c62fac5-b3d6-49b2-9080-3b0db35b69dd",
   "metadata": {},
   "outputs": [],
   "source": [
    "X_train, x_test, y_train, y_test = train_test_split (X, y, test_size =0.3)"
   ]
  },
  {
   "cell_type": "markdown",
   "id": "e95d466f-9d24-4a61-b9b6-9a377ddce0aa",
   "metadata": {},
   "source": [
    "mencetak panjang masing- masing set data"
   ]
  },
  {
   "cell_type": "code",
   "execution_count": 87,
   "id": "37d44a1b-5f47-4fb5-9d88-1bba1c1f33d2",
   "metadata": {},
   "outputs": [
    {
     "name": "stdout",
     "output_type": "stream",
     "text": [
      " panjang x train : 48085\n",
      "\n",
      " panjang x test : 20608\n",
      "\n",
      " panjang y train : 48085\n",
      "\n",
      " panjang y test : 20608\n",
      "\n"
     ]
    }
   ],
   "source": [
    "print (f' panjang x train : {len(X_train)}\\n')\n",
    "print (f' panjang x test : {len(x_test)}\\n')\n",
    "print (f' panjang y train : {len(y_train)}\\n')\n",
    "print (f' panjang y test : {len(y_test)}\\n')"
   ]
  },
  {
   "cell_type": "markdown",
   "id": "e5537586-c5fe-4f0e-ba84-a4d66611762e",
   "metadata": {},
   "source": [
    "##### Sequential Model"
   ]
  },
  {
   "cell_type": "code",
   "execution_count": 88,
   "id": "7245555e-4d0d-4cd5-afb6-b374f47ee7a4",
   "metadata": {},
   "outputs": [],
   "source": [
    "model = tf.keras.models.Sequential([\n",
    "     tf.keras.layers.Dense(32, activation= 'relu', input_shape=(X_train.shape[1],)),\n",
    "     tf.keras.layers.Dense(16,  activation= 'relu'),\n",
    "     tf.keras.layers.Dense(1, activation= 'sigmoid')\n",
    "])"
   ]
  },
  {
   "cell_type": "markdown",
   "id": "1194e6e2-b03a-45fe-a049-3943408ab82c",
   "metadata": {},
   "source": [
    "fungsi Callback"
   ]
  },
  {
   "cell_type": "code",
   "execution_count": 90,
   "id": "f6553c66-5a78-48bf-931a-84fbb6b6a357",
   "metadata": {},
   "outputs": [],
   "source": [
    "monitor_callbacks =EarlyStopping(\n",
    "    monitor = 'val_accuracy',\n",
    "    patience = 5) #mengentikan 5 epoch berikutnya"
   ]
  },
  {
   "cell_type": "markdown",
   "id": "23990ee6-fe38-4258-afc6-5ee2229d8b58",
   "metadata": {},
   "source": [
    "model compile"
   ]
  },
  {
   "cell_type": "code",
   "execution_count": 91,
   "id": "c6072000-3e67-4053-b3f0-f0936504a6ae",
   "metadata": {},
   "outputs": [],
   "source": [
    "model.compile(\n",
    "    optimizer = 'Adam',\n",
    "    loss = 'binary_crossentropy',\n",
    "    metrics = ['accuracy']\n",
    ")"
   ]
  },
  {
   "cell_type": "markdown",
   "id": "b7088678-f1f4-4a6d-80a0-c836521ec0ef",
   "metadata": {},
   "source": [
    "informasi tentang setiap lapisan dalam model"
   ]
  },
  {
   "cell_type": "code",
   "execution_count": 92,
   "id": "9d38bb58-96d8-4dac-abde-0ca969b810ea",
   "metadata": {},
   "outputs": [
    {
     "name": "stdout",
     "output_type": "stream",
     "text": [
      "Model: \"sequential_7\"\n",
      "_________________________________________________________________\n",
      " Layer (type)                Output Shape              Param #   \n",
      "=================================================================\n",
      " dense_23 (Dense)            (None, 32)                832       \n",
      "                                                                 \n",
      " dense_24 (Dense)            (None, 16)                528       \n",
      "                                                                 \n",
      " dense_25 (Dense)            (None, 1)                 17        \n",
      "                                                                 \n",
      "=================================================================\n",
      "Total params: 1377 (5.38 KB)\n",
      "Trainable params: 1377 (5.38 KB)\n",
      "Non-trainable params: 0 (0.00 Byte)\n",
      "_________________________________________________________________\n"
     ]
    }
   ],
   "source": [
    "model.summary()"
   ]
  },
  {
   "cell_type": "markdown",
   "id": "1f0a0187-da8f-4061-8006-5d99e43c5e91",
   "metadata": {},
   "source": [
    "##### Fitting model"
   ]
  },
  {
   "cell_type": "code",
   "execution_count": 94,
   "id": "fcb8e7fa-67c5-4c43-a70e-6784ed7bf65b",
   "metadata": {},
   "outputs": [
    {
     "name": "stdout",
     "output_type": "stream",
     "text": [
      "Epoch 1/100\n",
      "1503/1503 [==============================] - 2s 1ms/step - loss: 0.6351 - accuracy: 0.9993 - val_loss: 0.1821 - val_accuracy: 0.9995\n",
      "Epoch 2/100\n",
      "1503/1503 [==============================] - 2s 1ms/step - loss: 0.5707 - accuracy: 0.9991 - val_loss: 2.0695 - val_accuracy: 0.9995\n",
      "Epoch 3/100\n",
      "1503/1503 [==============================] - 2s 1ms/step - loss: 0.6718 - accuracy: 0.9993 - val_loss: 0.3816 - val_accuracy: 0.9995\n",
      "Epoch 4/100\n",
      "1503/1503 [==============================] - 2s 1ms/step - loss: 0.3540 - accuracy: 0.9991 - val_loss: 1.1871 - val_accuracy: 0.9995\n",
      "Epoch 5/100\n",
      "1503/1503 [==============================] - 2s 1ms/step - loss: 0.5544 - accuracy: 0.9994 - val_loss: 0.1643 - val_accuracy: 0.9986\n",
      "Epoch 6/100\n",
      "1503/1503 [==============================] - 2s 1ms/step - loss: 0.4277 - accuracy: 0.9991 - val_loss: 0.2980 - val_accuracy: 0.9994\n"
     ]
    }
   ],
   "source": [
    "fit = model.fit(\n",
    "    x = X_train,\n",
    "    y = y_train,\n",
    "    validation_data = (x_test, y_test),\n",
    "    epochs = 100,\n",
    "    verbose = 1,\n",
    "    callbacks = [monitor_callbacks]\n",
    ")"
   ]
  },
  {
   "cell_type": "markdown",
   "id": "41cedc7b-7c8e-48ff-a4f3-02c4587a5374",
   "metadata": {},
   "source": [
    "##### Evaluasi Model"
   ]
  },
  {
   "cell_type": "code",
   "execution_count": 95,
   "id": "e49b06fa-cb3a-4083-b85b-d5976c7620bb",
   "metadata": {},
   "outputs": [
    {
     "name": "stdout",
     "output_type": "stream",
     "text": [
      "644/644 [==============================] - 0s 703us/step - loss: 0.2980 - accuracy: 0.9994\n"
     ]
    },
    {
     "data": {
      "text/plain": [
       "[0.2980467975139618, 0.9994177222251892]"
      ]
     },
     "execution_count": 95,
     "metadata": {},
     "output_type": "execute_result"
    }
   ],
   "source": [
    "model.evaluate(x_test, y_test)"
   ]
  },
  {
   "cell_type": "markdown",
   "id": "4b399b90-c7b7-4e94-84e6-fcb054e9de4b",
   "metadata": {},
   "source": [
    "model ini memiliki kinerja yang baik dalam mengklasifikasi atau memprediksi. tingkat akurasi yang tinggi (0.999) dan loss yang cukup tinggi yaitu(4.000) \n",
    "menunjukkan bahwa model memprediksi tidak seakurat yang diharapkan"
   ]
  },
  {
   "cell_type": "code",
   "execution_count": 96,
   "id": "9680742b-4909-4dea-bfd6-c649982712a1",
   "metadata": {},
   "outputs": [
    {
     "name": "stdout",
     "output_type": "stream",
     "text": [
      "644/644 [==============================] - 0s 633us/step\n",
      "                 precision    recall  f1-score   support\n",
      "\n",
      "America/Chicago       1.00      1.00      1.00     20597\n",
      " America/Denver       0.00      0.00      0.00        11\n",
      "\n",
      "       accuracy                           1.00     20608\n",
      "      macro avg       0.50      0.50      0.50     20608\n",
      "   weighted avg       1.00      1.00      1.00     20608\n",
      "\n"
     ]
    }
   ],
   "source": [
    "print(classification_report(y_test, model.predict(x_test).round(), target_names = ['America/Chicago', 'America/Denver']))"
   ]
  },
  {
   "cell_type": "markdown",
   "id": "9d93f46f-f242-44c4-8be3-7d81dcb65b2f",
   "metadata": {},
   "source": [
    "model sangat baik dalam memprediksi 'America/Chicago', tetapi sangat buruk dalam memprediksi 'America/Denver'."
   ]
  },
  {
   "cell_type": "markdown",
   "id": "625113f3-d113-4914-9d91-012f73040565",
   "metadata": {},
   "source": [
    "##### Akurasi"
   ]
  },
  {
   "cell_type": "code",
   "execution_count": 97,
   "id": "66f4712f-b06c-46f1-b6ce-62718d57adf2",
   "metadata": {},
   "outputs": [
    {
     "name": "stdout",
     "output_type": "stream",
     "text": [
      "644/644 [==============================] - 0s 628us/step\n",
      "Accuracy: 0.999417701863354\n"
     ]
    }
   ],
   "source": [
    "from sklearn.metrics import accuracy_score\n",
    "y_pred = model.predict(x_test)\n",
    "\n",
    "y_pred_binary = (y_pred > 0.5).astype(int) \n",
    "accuracy = accuracy_score(y_test, y_pred_binary)\n",
    "print(\"Accuracy:\", accuracy)"
   ]
  },
  {
   "cell_type": "markdown",
   "id": "e04b2de5-90a8-453c-8406-bc70c6d8dd07",
   "metadata": {},
   "source": [
    "Grafik metrik (akurasi/loss) dan loss terhadap epochs pada training dan validation"
   ]
  },
  {
   "cell_type": "code",
   "execution_count": 98,
   "id": "b3a5f134-a177-4e9a-8b5d-8e84f4c20024",
   "metadata": {},
   "outputs": [
    {
     "data": {
      "text/plain": [
       "<matplotlib.legend.Legend at 0x189ce8d4cd0>"
      ]
     },
     "execution_count": 98,
     "metadata": {},
     "output_type": "execute_result"
    },
    {
     "data": {
      "image/png": "[encoded data removed]",
      "text/plain": [
       "<Figure size 1500x500 with 2 Axes>"
      ]
     },
     "metadata": {},
     "output_type": "display_data"
    }
   ],
   "source": [
    "plt.figure(figsize=(15, 5))\n",
    "plt.subplot(1, 2, 1)\n",
    "plt.plot(fit.history['accuracy'], label='Training Accuracy')\n",
    "plt.plot(fit.history['val_accuracy'], label='Validation Accuracy')\n",
    "plt.title('Accuracy Plot')\n",
    "plt.xlabel('Epoch')\n",
    "plt.ylabel('Accuracy')\n",
    "plt.legend()\n",
    "\n",
    "plt.subplot(1, 2, 2)\n",
    "plt.plot(fit.history['loss'], label='Training Loss')\n",
    "plt.plot(fit.history['val_loss'], label='Validation Loss')\n",
    "plt.title('Loss Plot')\n",
    "plt.xlabel('Epoch')\n",
    "plt.ylabel('Loss')\n",
    "plt.legend()"
   ]
  }
 ],
 "metadata": {
  "kernelspec": {
   "display_name": "Python 3 (ipykernel)",
   "language": "python",
   "name": "python3"
  },
  "language_info": {
   "codemirror_mode": {
    "name": "ipython",
    "version": 3
   },
   "file_extension": ".py",
   "mimetype": "text/x-python",
   "name": "python",
   "nbconvert_exporter": "python",
   "pygments_lexer": "ipython3",
   "version": "3.10.7"
  }
 },
 "nbformat": 4,
 "nbformat_minor": 5
}
